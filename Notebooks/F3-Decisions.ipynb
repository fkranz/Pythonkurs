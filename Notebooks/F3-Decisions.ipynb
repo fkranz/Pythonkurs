{
 "cells": [
  {
   "cell_type": "markdown",
   "metadata": {},
   "source": [
    "# Control Flow\n",
    "## Decision making\n",
    "### Branching"
   ]
  },
  {
   "cell_type": "code",
   "execution_count": null,
   "metadata": {
    "slideshow": {
     "slide_type": "slide"
    }
   },
   "outputs": [],
   "source": [
    "from IPython.display import Image\n",
    "Image(\"pics/if.png\", width=250)"
   ]
  },
  {
   "cell_type": "code",
   "execution_count": null,
   "metadata": {
    "collapsed": true
   },
   "outputs": [],
   "source": [
    "a = 5\n",
    "b = 7"
   ]
  },
  {
   "cell_type": "code",
   "execution_count": null,
   "metadata": {
    "slideshow": {
     "slide_type": "slide"
    }
   },
   "outputs": [],
   "source": [
    "if a < b:                #condition\n",
    "    print(\"A smaller B\") #do something"
   ]
  },
  {
   "cell_type": "code",
   "execution_count": null,
   "metadata": {},
   "outputs": [],
   "source": [
    "Image(\"pics/ifelse.png\", width=300)"
   ]
  },
  {
   "cell_type": "code",
   "execution_count": null,
   "metadata": {},
   "outputs": [],
   "source": [
    "if a > b:                #condition\n",
    "    print(\"A greater B\") #do something\n",
    "else:\n",
    "    print(\"Not\")         #do something else"
   ]
  },
  {
   "cell_type": "code",
   "execution_count": null,
   "metadata": {},
   "outputs": [],
   "source": [
    "Image(\"pics/ifelifelse.png\", width=300)"
   ]
  },
  {
   "cell_type": "code",
   "execution_count": null,
   "metadata": {},
   "outputs": [],
   "source": [
    "if a > b:                   #condition\n",
    "    print (\"A greater B\")   #do something\n",
    "elif a == b:                #other condition\n",
    "    print (\"Equal\")         #do something else\n",
    "else:\n",
    "    print (\"A smaller B\")   #do something totally else"
   ]
  },
  {
   "cell_type": "markdown",
   "metadata": {},
   "source": [
    "* Important:\n",
    "  * Don't forget the : or the *indentation*!\n",
    "\n",
    "* These conditions can be arbitrarily nested\n",
    "* A condition can be everything the can be evaluated to **True** or **False**"
   ]
  },
  {
   "cell_type": "markdown",
   "metadata": {},
   "source": [
    "<div class=\"alert alert-success\">\n",
    "\n",
    "<b>EXERCISE</b>:\n",
    "\n",
    "Check if a list is empty. Print \"List is empty\" or \"List is not empty\" accordingly.\n",
    "\n",
    "</div>"
   ]
  },
  {
   "cell_type": "code",
   "execution_count": null,
   "metadata": {
    "collapsed": true
   },
   "outputs": [],
   "source": [
    "a = []\n",
    "\n",
    "#test a here"
   ]
  },
  {
   "cell_type": "code",
   "execution_count": null,
   "metadata": {
    "collapsed": true
   },
   "outputs": [],
   "source": [
    "b = [1,2,3]\n",
    "\n",
    "#test b here"
   ]
  },
  {
   "cell_type": "markdown",
   "metadata": {},
   "source": [
    "### Conditions - Comparisons\n",
    "\n",
    "* Equality **==**\n",
    "* Inequality **!= <= < >= >**\n",
    "* **is**, **is not**, **in**, **not in**"
   ]
  },
  {
   "cell_type": "code",
   "execution_count": null,
   "metadata": {},
   "outputs": [],
   "source": [
    "print(5 == 5)\n",
    "print(-5 < 0)\n",
    "print(\"a\" >= \"b\")\n",
    "print(\"a\" < \"aa\")\n",
    "print(\"a\" > \"1\") # you can't compare a string to an integer\n",
    "print(\"Dog\" < \"cat\")\n",
    "print(\"Dog\" < \"Cat\")\n",
    "print(\"World\" in \"Hello world!\")"
   ]
  },
  {
   "cell_type": "markdown",
   "metadata": {},
   "source": [
    "Alphabetical ordering, all uppercase before lowercase, numbers \"smaller\" than letters"
   ]
  },
  {
   "cell_type": "code",
   "execution_count": null,
   "metadata": {},
   "outputs": [],
   "source": [
    "a = 1337\n",
    "b = 1336 + 1\n",
    "print(a == b)\n",
    "print(a is b)"
   ]
  },
  {
   "cell_type": "markdown",
   "metadata": {},
   "source": [
    "== compares values, is compares ids (\"place in memory\")\n",
    "\n",
    "Conditions can be combined with **or** and **and**"
   ]
  },
  {
   "cell_type": "code",
   "execution_count": null,
   "metadata": {},
   "outputs": [],
   "source": [
    "print(True or False)\n",
    "print(True or True)\n",
    "print(False or False)\n",
    "print(False or True)"
   ]
  },
  {
   "cell_type": "markdown",
   "metadata": {},
   "source": [
    "As soon as one condition is **True** the whole condition is evaluated to **True**, the second condition is not even checked"
   ]
  },
  {
   "cell_type": "code",
   "execution_count": null,
   "metadata": {},
   "outputs": [],
   "source": [
    "print(True and False)\n",
    "print(True and True)\n",
    "print(False and False)\n",
    "print(False and True)"
   ]
  },
  {
   "cell_type": "markdown",
   "metadata": {},
   "source": [
    "As soon as one condition is **False** the whole condition is evaluated to **False**, the second condition is not even checked"
   ]
  },
  {
   "cell_type": "code",
   "execution_count": null,
   "metadata": {},
   "outputs": [],
   "source": [
    "print(not True)\n",
    "print(not False)"
   ]
  },
  {
   "cell_type": "code",
   "execution_count": null,
   "metadata": {
    "collapsed": true
   },
   "outputs": [],
   "source": []
  }
 ],
 "metadata": {
  "kernelspec": {
   "display_name": "Python 3",
   "language": "python",
   "name": "python3"
  },
  "language_info": {
   "codemirror_mode": {
    "name": "ipython",
    "version": 3
   },
   "file_extension": ".py",
   "mimetype": "text/x-python",
   "name": "python",
   "nbconvert_exporter": "python",
   "pygments_lexer": "ipython3",
   "version": "3.5.2"
  }
 },
 "nbformat": 4,
 "nbformat_minor": 1
}
