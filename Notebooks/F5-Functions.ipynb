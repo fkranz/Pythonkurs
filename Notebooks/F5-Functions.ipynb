{
 "cells": [
  {
   "cell_type": "markdown",
   "metadata": {},
   "source": [
    "# Functions\n",
    "## Writing and Using"
   ]
  },
  {
   "cell_type": "code",
   "execution_count": 1,
   "metadata": {
    "collapsed": true
   },
   "outputs": [],
   "source": [
    "def superSimpleFunction():\n",
    "    print(\"Hello World!\")"
   ]
  },
  {
   "cell_type": "code",
   "execution_count": null,
   "metadata": {},
   "outputs": [],
   "source": [
    "superSimpleFunction()"
   ]
  },
  {
   "cell_type": "code",
   "execution_count": null,
   "metadata": {},
   "outputs": [],
   "source": [
    "x = superSimpleFunction()\n",
    "print(x)"
   ]
  },
  {
   "cell_type": "markdown",
   "metadata": {},
   "source": [
    "### Definition\n",
    "```python\n",
    "def functionname(arg1, arg2, ..., argN):\n",
    "    do_something using arg1 to argN\n",
    "    return ret1, ret2, ..., retM\n",
    "\n",
    "var1, var2, ... varM = functionname(par1, par2, ... parN)\n",
    "```\n",
    "\n",
    "```arg1``` to ```argN``` are called *arguments*.<br />\n",
    "```ret1``` to ```retM``` are called *return values*.<br />\n",
    "Arguments and return values are optional."
   ]
  },
  {
   "cell_type": "code",
   "execution_count": null,
   "metadata": {
    "collapsed": true
   },
   "outputs": [],
   "source": [
    "def duplicate(x):\n",
    "    return x*2"
   ]
  },
  {
   "cell_type": "markdown",
   "metadata": {},
   "source": [
    "<div class=\"alert alert-success\">\n",
    "\n",
    "<b>EXERCISE</b>:\n",
    "\n",
    "Called this function using an integer and then a string.\n",
    "</div>"
   ]
  },
  {
   "cell_type": "code",
   "execution_count": null,
   "metadata": {},
   "outputs": [],
   "source": []
  },
  {
   "cell_type": "code",
   "execution_count": null,
   "metadata": {},
   "outputs": [],
   "source": []
  },
  {
   "cell_type": "markdown",
   "metadata": {},
   "source": [
    "<div class=\"alert alert-success\">\n",
    "\n",
    "<b>EXERCISE</b>:\n",
    "\n",
    "Try to call the function without any parameter.\n",
    "</div>"
   ]
  },
  {
   "cell_type": "code",
   "execution_count": null,
   "metadata": {
    "collapsed": true
   },
   "outputs": [],
   "source": []
  },
  {
   "cell_type": "markdown",
   "metadata": {},
   "source": [
    "### Default arguments\n",
    "Defining values for arguments if none are given"
   ]
  },
  {
   "cell_type": "code",
   "execution_count": null,
   "metadata": {
    "collapsed": true
   },
   "outputs": [],
   "source": [
    "def duplicate(x=10):\n",
    "    return x*2"
   ]
  },
  {
   "cell_type": "code",
   "execution_count": null,
   "metadata": {},
   "outputs": [],
   "source": [
    "duplicate()"
   ]
  },
  {
   "cell_type": "markdown",
   "metadata": {},
   "source": [
    "<div class=\"alert alert-success\">\n",
    "\n",
    "<b>EXERCISE</b>:\n",
    "\n",
    "<ul>\n",
    "  <li>Create a variable `bigX` with an integer value.</li>\n",
    "  <li>Create a function that takes `bigX` as default parameter and takes the double.</li>\n",
    "  <li>Assign another value to `bigX`.</li>\n",
    "  <li>Call the function without arguments.</li>\n",
    "</ul>\n",
    "\n",
    "</div>"
   ]
  },
  {
   "cell_type": "code",
   "execution_count": null,
   "metadata": {},
   "outputs": [],
   "source": []
  },
  {
   "cell_type": "markdown",
   "metadata": {},
   "source": [
    "<div class=\"alert alert-danger\">\n",
    "\n",
    "<b>PUZZLE</b>:\n",
    "\n",
    "What happend?\n",
    "\n",
    "</div>"
   ]
  },
  {
   "cell_type": "markdown",
   "metadata": {},
   "source": [
    "### Multiple arguments"
   ]
  },
  {
   "cell_type": "code",
   "execution_count": null,
   "metadata": {
    "collapsed": true
   },
   "outputs": [],
   "source": [
    "def func(x, y=0, z=0):\n",
    "    print('x =',x)\n",
    "    print('y =',y)\n",
    "    print('z =',z)"
   ]
  },
  {
   "cell_type": "code",
   "execution_count": null,
   "metadata": {},
   "outputs": [],
   "source": [
    "func(1,2,3)"
   ]
  },
  {
   "cell_type": "code",
   "execution_count": null,
   "metadata": {},
   "outputs": [],
   "source": [
    "func(4,5)"
   ]
  },
  {
   "cell_type": "code",
   "execution_count": null,
   "metadata": {},
   "outputs": [],
   "source": [
    "func(x=6,z=8)"
   ]
  },
  {
   "cell_type": "markdown",
   "metadata": {},
   "source": [
    "### Arbitrary number of arguments\n",
    "* Often the exact number of arguments is unknown\n",
    "* Use the unpacking operator * in front of the last argument\n",
    "* Meaning: The last argument is a tuple of all remaining arguments"
   ]
  },
  {
   "cell_type": "code",
   "execution_count": null,
   "metadata": {
    "collapsed": true
   },
   "outputs": [],
   "source": [
    "def func(arg1, arg2, *remaining):\n",
    "    print(\"Argument 1\", arg1)\n",
    "    print(\"Argument 2\", arg2)\n",
    "    print(\"Remaining arguments\", remaining)"
   ]
  },
  {
   "cell_type": "code",
   "execution_count": null,
   "metadata": {},
   "outputs": [],
   "source": [
    "func(1,2)"
   ]
  },
  {
   "cell_type": "code",
   "execution_count": null,
   "metadata": {},
   "outputs": [],
   "source": [
    "func(4, 5, 6, 3, 7)"
   ]
  },
  {
   "cell_type": "markdown",
   "metadata": {},
   "source": [
    "## What happens with a function's arguments?\n",
    "\n",
    "There are different possibilities:\n",
    "\n",
    "* Call by value: Variables are copied whend used as parameters. The variable itself is not changed\n",
    "* Call by reference: The actual memory address if a variable is given to the function, so parameter variables can be changed."
   ]
  },
  {
   "cell_type": "code",
   "execution_count": null,
   "metadata": {
    "collapsed": true
   },
   "outputs": [],
   "source": [
    "def int_function1(p):\n",
    "    print(\"Inside1:\",p,\"Id:\",id(p))\n",
    "    p = 42\n",
    "    print(\"Inside2:\",p,\"Id:\",id(p))\n",
    "\n",
    "def int_function2(p):\n",
    "    print(\"Inside1:\",p,\"Id:\",id(p))\n",
    "    p += 42\n",
    "    print(\"Inside2:\",p,\"Id:\",id(p))\n",
    "\n",
    "def list_function1(p):\n",
    "    print(\"Inside1:\",p,\"Id:\",id(p))\n",
    "    p = [5, 6]\n",
    "    print(\"Inside2:\",p,\"Id:\",id(p))\n",
    "\n",
    "def list_function2(p):\n",
    "    print(\"Inside1:\",p,\"Id:\",id(p))\n",
    "    p += [5, 6]\n",
    "    print(\"Inside2:\",p,\"Id:\",id(p))"
   ]
  },
  {
   "cell_type": "code",
   "execution_count": null,
   "metadata": {
    "collapsed": true
   },
   "outputs": [],
   "source": [
    "print(\"Testing ints\")\n",
    "print(\"Function1\")\n",
    "x = 1337\n",
    "print(\"Before:\",x,\"Id:\",id(x))\n",
    "int_function1(x)\n",
    "print(\"After:\",x,\"Id:\",id(x))\n",
    "print()\n",
    "print(\"Function2\")\n",
    "x = 1337\n",
    "print(\"Before:\",x,\"Id:\",id(x))\n",
    "int_function2(x)\n",
    "print(\"After:\",x,\"Id:\",id(x))"
   ]
  },
  {
   "cell_type": "code",
   "execution_count": null,
   "metadata": {
    "collapsed": true
   },
   "outputs": [],
   "source": [
    "print(\"Testing lists\")\n",
    "print(\"Function1\")\n",
    "x = [1,2] \n",
    "print(\"Before:\",x,\"Id:\",id(x))\n",
    "list_function1(x)\n",
    "print(\"After:\",x,\"Id:\",id(x))\n",
    "print()\n",
    "print(\"Function2\")\n",
    "x = [1,2]\n",
    "print(\"Before:\",x,\"Id:\",id(x))\n",
    "list_function2(x)\n",
    "print(\"After:\",x,\"Id:\",id(x))"
   ]
  },
  {
   "cell_type": "markdown",
   "metadata": {},
   "source": [
    "### Result\n",
    "* Initially call by reference (same id in the beginning)\n",
    "* As soon as new object is assigned with **=** the variable is copied --> call by value\n",
    "* But if no new object is created, for example when you append to a list (**+=** does the same as **.append()**) the old object is changed\n",
    "\n",
    "*Easy to remeber: Immutable objects can't and won't be changed, mutable objects will be changed if no new object is created*"
   ]
  },
  {
   "cell_type": "markdown",
   "metadata": {},
   "source": [
    "<div class=\"alert alert-success\">\n",
    "\n",
    "<b>EXERCISE</b>:\n",
    "\n",
    "Before to execute the following function, which behaviour do you expect for the different variables.\n",
    "\n",
    "</div>"
   ]
  },
  {
   "cell_type": "code",
   "execution_count": null,
   "metadata": {
    "collapsed": true
   },
   "outputs": [],
   "source": [
    "def try_to_modify(x, y, z):\n",
    "    x = 23\n",
    "    y.append(42)\n",
    "    z = [99] # new reference\n",
    "    print('Value of variables inside function')\n",
    "    print(x)\n",
    "    print(y)\n",
    "    print(z)\n",
    "\n",
    "a = 77    # immutable variable\n",
    "b = [99]  # mutable variable\n",
    "c = [28]\n",
    "try_to_modify(a, b, c)\n",
    "\n",
    "print('Value of the variables after function call')\n",
    "print(a)\n",
    "print(b)\n",
    "print(c)"
   ]
  },
  {
   "cell_type": "markdown",
   "metadata": {},
   "source": [
    "## Scope\n",
    "\n",
    "* Local variables: can only be accessed iside its own function\n",
    "* Global variables: can be accessed in the whole program. They are defined outside of functions\n",
    "* Global variables are overwritten by local ones but not changed\n",
    "* To use and change global variables inside a function use **global variablename** in the beginning"
   ]
  },
  {
   "cell_type": "code",
   "execution_count": null,
   "metadata": {
    "collapsed": true
   },
   "outputs": [],
   "source": [
    "x = 10\n",
    "\n",
    "def something(y=20):\n",
    "    return x + y"
   ]
  },
  {
   "cell_type": "code",
   "execution_count": null,
   "metadata": {},
   "outputs": [],
   "source": [
    "something()"
   ]
  },
  {
   "cell_type": "code",
   "execution_count": null,
   "metadata": {
    "collapsed": true
   },
   "outputs": [],
   "source": [
    "def setx(y):\n",
    "    x = y\n",
    "    print('x as be assigned to {}'.format(x))"
   ]
  },
  {
   "cell_type": "code",
   "execution_count": null,
   "metadata": {},
   "outputs": [],
   "source": [
    "setx(5)"
   ]
  },
  {
   "cell_type": "code",
   "execution_count": null,
   "metadata": {},
   "outputs": [],
   "source": [
    "x"
   ]
  },
  {
   "cell_type": "code",
   "execution_count": null,
   "metadata": {
    "collapsed": true
   },
   "outputs": [],
   "source": [
    "def setx(y):\n",
    "    global x\n",
    "    x = y\n",
    "    print('x as be assigned to {}'.format(x))"
   ]
  },
  {
   "cell_type": "code",
   "execution_count": null,
   "metadata": {},
   "outputs": [],
   "source": [
    "setx(5)"
   ]
  },
  {
   "cell_type": "code",
   "execution_count": null,
   "metadata": {},
   "outputs": [],
   "source": [
    "x"
   ]
  },
  {
   "cell_type": "markdown",
   "metadata": {},
   "source": [
    "<div class=\"alert alert-success\">\n",
    "\n",
    "<b>EXERCISE</b>:\n",
    "\n",
    "<ul>\n",
    "    <li> What values have `circumfence inside`, `area inside`, `circumfence outside`, and `area outside`?\n",
    "    <li> What happens if we put `global circumfence` in line 5?\n",
    "    <li> What happens if we put `PI` after line 8?\n",
    "</ul>\n",
    "</div>"
   ]
  },
  {
   "cell_type": "code",
   "execution_count": null,
   "metadata": {
    "collapsed": true
   },
   "outputs": [],
   "source": [
    "PI = 3.145\n",
    "circumfence = 42\n",
    "\n",
    "def circle(radius):\n",
    "    circumfence = 2 * radius * PI\n",
    "    area = radius * radius * PI\n",
    "    print(\"Circumfence inside:\", circumfence)\n",
    "    print(\"Area inside:\", area)"
   ]
  },
  {
   "cell_type": "code",
   "execution_count": null,
   "metadata": {},
   "outputs": [],
   "source": [
    "circle(5)\n",
    "print(\"Circumfence outside:\", circumfence)\n",
    "print(\"Area outside:\", area)"
   ]
  }
 ],
 "metadata": {
  "kernelspec": {
   "display_name": "Python 3",
   "language": "python",
   "name": "python3"
  },
  "language_info": {
   "codemirror_mode": {
    "name": "ipython",
    "version": 3
   },
   "file_extension": ".py",
   "mimetype": "text/x-python",
   "name": "python",
   "nbconvert_exporter": "python",
   "pygments_lexer": "ipython3",
   "version": "3.5.2"
  }
 },
 "nbformat": 4,
 "nbformat_minor": 1
}
