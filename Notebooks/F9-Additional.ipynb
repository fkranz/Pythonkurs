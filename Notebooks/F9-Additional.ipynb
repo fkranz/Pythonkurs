{
 "cells": [
  {
   "cell_type": "markdown",
   "metadata": {},
   "source": [
    "# Additional and Advanced\n",
    "## More on data types\n",
    "\n",
    "### Sets and frozen sets\n",
    "* A set is a list without duplicates\n",
    "* It can't contain mutable objects like lists\n",
    "* A set is mutable, a frozen set is immutable"
   ]
  },
  {
   "cell_type": "code",
   "execution_count": null,
   "metadata": {},
   "outputs": [],
   "source": [
    "myset = {1,2,3,1,2,3,4,5,1}\n",
    "print(myset)"
   ]
  },
  {
   "cell_type": "code",
   "execution_count": null,
   "metadata": {},
   "outputs": [],
   "source": [
    "myset = set(\"I love Python\")\n",
    "print(myset)"
   ]
  },
  {
   "cell_type": "code",
   "execution_count": null,
   "metadata": {},
   "outputs": [],
   "source": [
    "myfset = frozenset(\"I love Python!\")\n",
    "print(myfset)"
   ]
  },
  {
   "cell_type": "markdown",
   "metadata": {},
   "source": [
    "#### Operations"
   ]
  },
  {
   "cell_type": "code",
   "execution_count": null,
   "metadata": {},
   "outputs": [],
   "source": [
    "myset = {1,2,3,1,2,3,4,5,1}\n",
    "myset.add(7)\n",
    "print(myset)"
   ]
  },
  {
   "cell_type": "code",
   "execution_count": null,
   "metadata": {},
   "outputs": [],
   "source": [
    "myset.update([10,13,17])\n",
    "print(myset)"
   ]
  },
  {
   "cell_type": "code",
   "execution_count": null,
   "metadata": {},
   "outputs": [],
   "source": [
    "myset.remove(1)\n",
    "print(myset)"
   ]
  },
  {
   "cell_type": "code",
   "execution_count": null,
   "metadata": {},
   "outputs": [],
   "source": [
    "myset.remove(3)\n",
    "print(myset)"
   ]
  },
  {
   "cell_type": "code",
   "execution_count": null,
   "metadata": {},
   "outputs": [],
   "source": [
    "v = myset.pop()\n",
    "print(myset)"
   ]
  },
  {
   "cell_type": "code",
   "execution_count": null,
   "metadata": {},
   "outputs": [],
   "source": [
    "myset.clear()\n",
    "print(myset)"
   ]
  },
  {
   "cell_type": "code",
   "execution_count": null,
   "metadata": {
    "collapsed": true
   },
   "outputs": [],
   "source": [
    "s1 = {1,2,3,4,5}\n",
    "s2 = {3,4,5,6,7}"
   ]
  },
  {
   "cell_type": "code",
   "execution_count": null,
   "metadata": {},
   "outputs": [],
   "source": [
    "s1.difference(s2) # s1.difference_update(set2)\n",
    "s1-s2 #s1-=s2"
   ]
  },
  {
   "cell_type": "code",
   "execution_count": null,
   "metadata": {},
   "outputs": [],
   "source": [
    "s1.symmetric_difference(s2) #s1.difference_update(set2)\n",
    "s1^s2  #s1=^s2"
   ]
  },
  {
   "cell_type": "code",
   "execution_count": null,
   "metadata": {},
   "outputs": [],
   "source": [
    "s1.intersection(s2)\n",
    "s1&s2"
   ]
  },
  {
   "cell_type": "code",
   "execution_count": null,
   "metadata": {},
   "outputs": [],
   "source": [
    "s1.union(s2)\n",
    "s1|s2"
   ]
  },
  {
   "cell_type": "code",
   "execution_count": null,
   "metadata": {},
   "outputs": [],
   "source": [
    "s1.isdisjoint(s2)"
   ]
  },
  {
   "cell_type": "code",
   "execution_count": null,
   "metadata": {},
   "outputs": [],
   "source": [
    "s1.issubset(s2)\n",
    "s1<=s2"
   ]
  },
  {
   "cell_type": "code",
   "execution_count": null,
   "metadata": {},
   "outputs": [],
   "source": [
    "s1.issuperset(s2)\n",
    "s1>=s2"
   ]
  },
  {
   "cell_type": "markdown",
   "metadata": {},
   "source": [
    "### Dictionaries\n",
    "* Also curly braces\n",
    "* Key-Value pairs\n",
    "* Keys: normally numbers or strings\n",
    "* Values: arbitrary\n",
    "* Creation from sequences (lists or tuples) possible"
   ]
  },
  {
   "cell_type": "code",
   "execution_count": null,
   "metadata": {
    "collapsed": true
   },
   "outputs": [],
   "source": [
    "dict1 = {\"A\":\"cat\", \"B\":\"dog\", \"C\":\"fish\", \"D\":\"hamster\"}"
   ]
  },
  {
   "cell_type": "code",
   "execution_count": null,
   "metadata": {},
   "outputs": [],
   "source": [
    "seq = [(1,\"cat\"),(2,\"dog\"),(3,\"fish\"),(4,\"hamster\")]\n",
    "dict2 = dict(seq)"
   ]
  },
  {
   "cell_type": "code",
   "execution_count": null,
   "metadata": {
    "collapsed": true
   },
   "outputs": [],
   "source": [
    "key_seq = [1,2,3,4]\n",
    "val_seq = (\"cat\", \"dog\", \"fish\", \"hamster\")\n",
    "dict3 = dict(zip(key_seq, val_seq))"
   ]
  },
  {
   "cell_type": "code",
   "execution_count": null,
   "metadata": {},
   "outputs": [],
   "source": [
    "print(dict1)\n",
    "print(dict2)\n",
    "print(dict3)"
   ]
  },
  {
   "cell_type": "code",
   "execution_count": null,
   "metadata": {},
   "outputs": [],
   "source": [
    "print(dict1.keys())"
   ]
  },
  {
   "cell_type": "code",
   "execution_count": null,
   "metadata": {},
   "outputs": [],
   "source": [
    "print(dict1.values())"
   ]
  },
  {
   "cell_type": "code",
   "execution_count": null,
   "metadata": {},
   "outputs": [],
   "source": [
    "print(dict1[\"C\"])"
   ]
  },
  {
   "cell_type": "code",
   "execution_count": null,
   "metadata": {
    "collapsed": true
   },
   "outputs": [],
   "source": [
    "dict1.update(dict2)"
   ]
  },
  {
   "cell_type": "code",
   "execution_count": null,
   "metadata": {},
   "outputs": [],
   "source": [
    "print(dict1)"
   ]
  },
  {
   "cell_type": "markdown",
   "metadata": {},
   "source": [
    "## Slice operator revisited\n",
    "* **[start:end:step]**\n",
    "* **end** is exclusive\n",
    "* Every part is optional\n",
    "* Default for **start** is 0\n",
    "* Default for **end** is the length of the list\n",
    "* Default for **step** is 1\n",
    "* Parameters can be negative - counting backwards\n",
    "\n",
    "       [El1, El2, El3, El4, El5]\n",
    "         0    1    2    3    4\n",
    "        -5   -4   -3   -2   -1"
   ]
  },
  {
   "cell_type": "code",
   "execution_count": null,
   "metadata": {},
   "outputs": [],
   "source": [
    "liste = [0,1,2,3,4,5,6,7,8,9,10,11,12,13,14,15,16,17,18,19,20]\n",
    "print(liste[3:15:2])\n",
    "print(liste[15:3:2])\n",
    "print(liste[15:3:-2])"
   ]
  },
  {
   "cell_type": "markdown",
   "metadata": {},
   "source": [
    "## Unpacking operator\n",
    "* Returns the elements of a sequence seperately\n",
    "* **\\*** for lists and tuples\n",
    "* **\\*\\*** for dictionaries\n",
    "* For example when using as function argument"
   ]
  },
  {
   "cell_type": "code",
   "execution_count": null,
   "metadata": {},
   "outputs": [],
   "source": [
    "def func(a, b, c):\n",
    "    return (a+b)*c\n",
    "\n",
    "list = [1, 2, 3]      # or list = ['apple', 'strawberry', 3]\n",
    "print(func(*list))"
   ]
  },
  {
   "cell_type": "code",
   "execution_count": null,
   "metadata": {},
   "outputs": [],
   "source": [
    "def func2(*l):\n",
    "    sum = 0\n",
    "    for item in l:\n",
    "        sum += item\n",
    "    return sum\n",
    "\n",
    "print(func2(1,2,3,4,5))"
   ]
  },
  {
   "cell_type": "code",
   "execution_count": null,
   "metadata": {},
   "outputs": [],
   "source": [
    "coord = {'latitude': '37.24N', 'longitude': '-115.81W'}\n",
    "print('Coordinates: {latitude}, {longitude}'.format(**coord))"
   ]
  },
  {
   "cell_type": "markdown",
   "metadata": {},
   "source": [
    "## Lists of lists"
   ]
  },
  {
   "cell_type": "code",
   "execution_count": null,
   "metadata": {},
   "outputs": [],
   "source": [
    "listOfLists = [[0] * 4] * 5\n",
    "print(listOfLists)"
   ]
  },
  {
   "cell_type": "code",
   "execution_count": null,
   "metadata": {},
   "outputs": [],
   "source": [
    "listOfLists[0][1] = 42\n",
    "print(listOfLists)"
   ]
  },
  {
   "cell_type": "code",
   "execution_count": null,
   "metadata": {},
   "outputs": [],
   "source": [
    "innerList = [0] * 4\n",
    "listOfLists = [innerList] * 5\n",
    "innerList[1] = 42\n",
    "print(listOfLists)"
   ]
  },
  {
   "cell_type": "code",
   "execution_count": null,
   "metadata": {},
   "outputs": [],
   "source": [
    "listOfLists = [[0] * 4 for i in range(5)]\n",
    "listOfLists[0][1] = 42\n",
    "print(listOfLists)"
   ]
  },
  {
   "cell_type": "markdown",
   "metadata": {},
   "source": [
    "### Similar when copying lists"
   ]
  },
  {
   "cell_type": "code",
   "execution_count": null,
   "metadata": {},
   "outputs": [],
   "source": [
    "colors = ['pink', 'orange']      \n",
    "copycolors = colors \n",
    "print(colors)\n",
    "print(copycolors)     "
   ]
  },
  {
   "cell_type": "code",
   "execution_count": null,
   "metadata": {},
   "outputs": [],
   "source": [
    "from IPython.display import Image\n",
    "Image(\"pics/copy1.png\", width=500)"
   ]
  },
  {
   "cell_type": "code",
   "execution_count": null,
   "metadata": {},
   "outputs": [],
   "source": [
    "copycolors = ['pink', 'red']       \n",
    "print(colors)\n",
    "print(copycolors)         "
   ]
  },
  {
   "cell_type": "code",
   "execution_count": null,
   "metadata": {},
   "outputs": [],
   "source": [
    "Image(\"pics/copy2.png\", width=500)"
   ]
  },
  {
   "cell_type": "code",
   "execution_count": null,
   "metadata": {},
   "outputs": [],
   "source": [
    "copycolors = colors\n",
    "copycolors[1] = 'red'\n",
    "print(colors)\n",
    "print(copycolors) "
   ]
  },
  {
   "cell_type": "code",
   "execution_count": null,
   "metadata": {},
   "outputs": [],
   "source": [
    "Image(\"pics/copy3.png\", width=500)"
   ]
  },
  {
   "cell_type": "code",
   "execution_count": null,
   "metadata": {},
   "outputs": [],
   "source": [
    "copycolors = colors[:]\n",
    "copycolors[1] = 'red'\n",
    "print(colors)\n",
    "print(copycolors) "
   ]
  },
  {
   "cell_type": "markdown",
   "metadata": {},
   "source": [
    "#### Same problem again when copying list with lists"
   ]
  },
  {
   "cell_type": "code",
   "execution_count": null,
   "metadata": {},
   "outputs": [],
   "source": [
    "colors = ['pink', 'orange', ['green', 'blue']] \n",
    "copycolors = colors[:]  \n",
    "print(colors)\n",
    "print(copycolors)   "
   ]
  },
  {
   "cell_type": "code",
   "execution_count": null,
   "metadata": {},
   "outputs": [],
   "source": [
    "copycolors[1] = 'red'\n",
    "print(colors)\n",
    "print(copycolors)  "
   ]
  },
  {
   "cell_type": "code",
   "execution_count": null,
   "metadata": {},
   "outputs": [],
   "source": [
    "copycolors[2][1] = 'violet'\n",
    "print(colors)\n",
    "print(copycolors)  "
   ]
  },
  {
   "cell_type": "markdown",
   "metadata": {},
   "source": [
    "Same problem again when changing sublists!\n",
    "\n",
    "Solution: **deepcopy** from module **copy**"
   ]
  },
  {
   "cell_type": "code",
   "execution_count": null,
   "metadata": {},
   "outputs": [],
   "source": [
    "from copy import deepcopy\n",
    "\n",
    "colors = ['pink', 'orange', ['green', 'blue']] \n",
    "copycolors = deepcopy(colors)   \n",
    "print(colors)\n",
    "print(copycolors)  "
   ]
  },
  {
   "cell_type": "code",
   "execution_count": null,
   "metadata": {},
   "outputs": [],
   "source": [
    "copycolors[2][1] = 'violet'\n",
    "print(colors)\n",
    "print(copycolors)  "
   ]
  },
  {
   "cell_type": "markdown",
   "metadata": {},
   "source": [
    "## Generators\n",
    "* **range(0,1000000000)** would need lots of memory\n",
    "* But **range()** does not return a list but an iterator\n",
    "* Next element generated when needed\n",
    "* Generator functions have no **return** but one or more **yield**"
   ]
  },
  {
   "cell_type": "code",
   "execution_count": null,
   "metadata": {},
   "outputs": [],
   "source": [
    "def pizza_generator():\n",
    "    yield(\"Yeast\")\n",
    "    yield(\"Flour\")\n",
    "    yield(\"Water\")\n",
    "    yield(\"Salt\")\n",
    "    yield(\"Tomatoes\")\n",
    "    yield(\"Spices\")\n",
    "    yield(\"Mozzarella\")\n",
    "\n",
    "print(pizza_generator())\n",
    "\n",
    "for item in pizza_generator():\n",
    "    print(item)\n",
    "\n",
    "pizza = pizza_generator()\n",
    "print(next(pizza))\n",
    "print(next(pizza))"
   ]
  },
  {
   "cell_type": "markdown",
   "metadata": {},
   "source": [
    "## Comprehensions\n",
    "For lists using **[]**, generators using **()** and sets using **{}**"
   ]
  },
  {
   "cell_type": "code",
   "execution_count": null,
   "metadata": {},
   "outputs": [],
   "source": [
    "colors = [\"red\", \"green\", \"yellow\", \"blue\"]\n",
    "things = [\"house\", \"car\", \"tree\"]\n",
    "colored_things = [(x,y) for x in colors for y in things]\n",
    "print(colored_things)"
   ]
  },
  {
   "cell_type": "code",
   "execution_count": null,
   "metadata": {},
   "outputs": [],
   "source": [
    "#Set of all sums of numbers between 0 and 2: \n",
    "{x+y for x in range(0,3) for y in range(0,3)}"
   ]
  },
  {
   "cell_type": "markdown",
   "metadata": {},
   "source": [
    "## Function's arguments\n",
    "* Duck typing is heavily used! \n",
    "* Function parameters don't have a special type\n",
    "* When I see a bird that walks like a duck and swims like a duck and quacks like a duck, I call that bird a duck."
   ]
  },
  {
   "cell_type": "code",
   "execution_count": null,
   "metadata": {},
   "outputs": [],
   "source": [
    "class Duck:\n",
    "    def quack(self):\n",
    "        print(\"Quack, quack!\")\n",
    "    def fly(self):\n",
    "        print(\"Flap, Flap!\")\n",
    "\n",
    "class Person:\n",
    "    def quack(self):\n",
    "        print(\"I'm Quackin'!\")\n",
    "    def fly(self):\n",
    "        print(\"I'm Flyin'!\")\n",
    "\n",
    "def in_the_forest(mallard):\n",
    "    mallard.quack()\n",
    "    mallard.fly()\n",
    "\n",
    "in_the_forest(Duck())\n",
    "in_the_forest(Person())"
   ]
  },
  {
   "cell_type": "markdown",
   "metadata": {},
   "source": [
    "## Closures\n",
    "* Nested function (a function in a function)\t\n",
    "* Inner function is returned by the outer as function object\n",
    "* Returned function can refer to variable defined by outer function even after it's called"
   ]
  },
  {
   "cell_type": "code",
   "execution_count": null,
   "metadata": {},
   "outputs": [],
   "source": [
    "def gen_power_func(n):      #outer function\n",
    "    def nth_power(x):       #inner function / closure\n",
    "        return x**n         #n defined in outer function!!\n",
    "    return nth_power\n",
    "\n",
    "to_4 = gen_power_func(4)\n",
    "print(to_4(2))              #it still knows n = 4!"
   ]
  },
  {
   "cell_type": "markdown",
   "metadata": {},
   "source": [
    "## Decorators\n",
    "* Objects that modify a function, method or class defintion\n",
    "* Basically again a function, that gets a function as argument\n",
    "* **@property, @x.setter,  @staticmethod**"
   ]
  },
  {
   "cell_type": "code",
   "execution_count": null,
   "metadata": {},
   "outputs": [],
   "source": [
    "def simple_decorator(function):\n",
    "    print(\"doing decoration\")\n",
    "    return function\n",
    "\n",
    "@simple_decorator\n",
    "def function():\n",
    "    print(\"inside function\")\n",
    "\n",
    "function()"
   ]
  },
  {
   "cell_type": "code",
   "execution_count": null,
   "metadata": {
    "collapsed": true
   },
   "outputs": [],
   "source": [
    "import time\n",
    "def timing_function(some_function):\n",
    "    def wrapper():\n",
    "        t1 = time.time()\n",
    "        some_function()\n",
    "        t2 = time.time()\n",
    "        return \"Time it took to run the function: \" + str((t2 - t1)) + \"\\n\"\n",
    "    return wrapper"
   ]
  },
  {
   "cell_type": "code",
   "execution_count": null,
   "metadata": {
    "collapsed": true
   },
   "outputs": [],
   "source": [
    "@timing_function\n",
    "def my_function():\n",
    "    num_list = []\n",
    "    for num in (range(0, 10000)):\n",
    "        num_list.append(num)\n",
    "    print(\"\\nSum of all the numbers: \" + str((sum(num_list))))"
   ]
  },
  {
   "cell_type": "code",
   "execution_count": null,
   "metadata": {},
   "outputs": [],
   "source": [
    "print(my_function())"
   ]
  },
  {
   "cell_type": "markdown",
   "metadata": {},
   "source": [
    "## Documentation\n",
    "* Comments: Use them - but use them wisely\n",
    "* Docstrings: Always in `'''docstring'''`\n",
    "    * Beginning of file: Description of content\n",
    "    * After class definition: Description of class\n",
    "    * After function definition: Description of function (what does it do, what parameter it takes...)\n",
    "* Docstring are printed when using `help` or `pydoc`"
   ]
  },
  {
   "cell_type": "markdown",
   "metadata": {},
   "source": [
    "## Regular Expressions\n",
    "Challenge: \n",
    "* Find sequence *ACGTG* or *GCGTG*  --> 2 possibilities\n",
    "* Find a sequence starting with A or G, then has C or T, then 1 to 4 Cs, then T, then any base, then maybe a G and ending any base but A --> $ 2 \\cdot 2 \\cdot 4 \\cdot 1 \\cdot 4 \\cdot 2 \\cdot 3 = 384$ possibilities\n",
    "* Find any sequence starting with A and ending with T --> infinite possibilities\n",
    "\n",
    "Solution: Regular Expressions:\n",
    "* `.` any character\n",
    "* `[ACG]` any (one!) of A, C, G\n",
    "* `[B-O]` any (one!) of the characters from B to O (case sensitive)\n",
    "* `[^A]` any (one!) but A\n",
    "* `{n,m}` n to m times repeated\n",
    "    * `?` is `{0,1}` optional\n",
    "    * `*` is `{0,}` 0 or more\n",
    "    * `+` is `{1,}` at least 1\n",
    "* `^A` A at the beginning of the \"sentence\"\n",
    "* `A$` A at the end of the \"sentence\"\n",
    "* `(...)` subexpressions"
   ]
  },
  {
   "cell_type": "markdown",
   "metadata": {},
   "source": [
    "Examples:\n",
    "* Any sequence starting with A and ending with T: `placeholder`\n",
    "* A sequence starting with A or G, then has C or T, then 1 to 4 Cs, then T, then any base, then maybe a G and ending any base but A:  `placeholder`\n",
    "* A G at the beginning of the sequence and the T at the and of a sequence: `placeholder`"
   ]
  },
  {
   "cell_type": "markdown",
   "metadata": {},
   "source": [
    "### RegExp in Python\n",
    "* A regular expression is used like a string with a prepended r: `r\"Some.Reg*[Ex]?\"`\n",
    "* Module `re`\n",
    "* `matchobject = re.search(regex, string)`"
   ]
  },
  {
   "cell_type": "code",
   "execution_count": null,
   "metadata": {
    "collapsed": true
   },
   "outputs": [],
   "source": [
    "import re\n",
    "s1 = \"Meier is a common name.\"\n",
    "s2 = \"But we have many ways to write Mayr.\""
   ]
  },
  {
   "cell_type": "code",
   "execution_count": null,
   "metadata": {},
   "outputs": [],
   "source": [
    "o=re.search(r\"M[ae][iy]e?r\", s1) \n",
    "print(o)"
   ]
  },
  {
   "cell_type": "code",
   "execution_count": null,
   "metadata": {},
   "outputs": [],
   "source": [
    "o.group()"
   ]
  },
  {
   "cell_type": "code",
   "execution_count": null,
   "metadata": {},
   "outputs": [],
   "source": [
    "o.span()"
   ]
  },
  {
   "cell_type": "code",
   "execution_count": null,
   "metadata": {},
   "outputs": [],
   "source": [
    "s = s2 + \"\\n\" + s1\n",
    "print(s)"
   ]
  },
  {
   "cell_type": "code",
   "execution_count": null,
   "metadata": {},
   "outputs": [],
   "source": [
    "o=re.search(r\"^M[ae][iy]e?r\", s)       #only beginning of whole string\n",
    "print(o)"
   ]
  },
  {
   "cell_type": "code",
   "execution_count": null,
   "metadata": {},
   "outputs": [],
   "source": [
    "o=re.search(r\"^M[ae][iy]e?r\", s, re.M) #M for MULTILINE; beginning of every line\n",
    "print(o)"
   ]
  },
  {
   "cell_type": "code",
   "execution_count": null,
   "metadata": {},
   "outputs": [],
   "source": [
    "s = s1 + \" \" + s2\n",
    "print(s)\n",
    "re.findall(r\"M[ae][iy]e?r\", s)"
   ]
  },
  {
   "cell_type": "code",
   "execution_count": null,
   "metadata": {},
   "outputs": [],
   "source": [
    "re.sub(r\"M[ae][iy]e?r\", \"Müller\", s)"
   ]
  },
  {
   "cell_type": "code",
   "execution_count": null,
   "metadata": {},
   "outputs": [],
   "source": [
    "s = \"A,B-C.D E\"\n",
    "re.split(r\"[ ,.-]\", s)"
   ]
  },
  {
   "cell_type": "markdown",
   "metadata": {},
   "source": [
    "#### Character classes \n",
    "* `\\d = [0-9]` decimal digits `\\D` complement\n",
    "* `\\s = [ \\t\\n\\r\\f\\v]` all whitespace `\\S` complement\n",
    "* `\\w = [a-zA-Z0-9_]` alphanumeric `\\W` complement\n",
    "* `\\b` empty string in beginning or end of a word\n",
    "* `\\B` empty string not in beginning or end of a word"
   ]
  },
  {
   "cell_type": "code",
   "execution_count": null,
   "metadata": {
    "collapsed": true
   },
   "outputs": [],
   "source": []
  }
 ],
 "metadata": {
  "kernelspec": {
   "display_name": "Python 3",
   "language": "python",
   "name": "python3"
  },
  "language_info": {
   "codemirror_mode": {
    "name": "ipython",
    "version": 3
   },
   "file_extension": ".py",
   "mimetype": "text/x-python",
   "name": "python",
   "nbconvert_exporter": "python",
   "pygments_lexer": "ipython3",
   "version": "3.5.2"
  }
 },
 "nbformat": 4,
 "nbformat_minor": 1
}
