{
 "cells": [
  {
   "cell_type": "markdown",
   "metadata": {},
   "source": [
    "# Additional and Advanced\n",
    "## More on data types\n",
    "\n",
    "### Sets and frozen sets\n",
    "* A set is a list without duplicates\n",
    "* It can't contain mutable objects like lists\n",
    "* A set is mutable, a frozen set is immutable"
   ]
  },
  {
   "cell_type": "code",
   "execution_count": 1,
   "metadata": {},
   "outputs": [
    {
     "name": "stdout",
     "output_type": "stream",
     "text": [
      "{1, 2, 3, 4, 5}\n"
     ]
    }
   ],
   "source": [
    "myset = {1,2,3,1,2,3,4,5,1}\n",
    "print(myset)"
   ]
  },
  {
   "cell_type": "code",
   "execution_count": 2,
   "metadata": {},
   "outputs": [
    {
     "name": "stdout",
     "output_type": "stream",
     "text": [
      "{'e', 'P', 't', 'o', 'I', 'n', 'h', 'l', ' ', 'v', 'y'}\n"
     ]
    }
   ],
   "source": [
    "myset = set(\"I love Python\")\n",
    "print(myset)"
   ]
  },
  {
   "cell_type": "code",
   "execution_count": 3,
   "metadata": {},
   "outputs": [
    {
     "name": "stdout",
     "output_type": "stream",
     "text": [
      "frozenset({'e', 'P', 't', 'o', 'I', 'n', '!', 'h', 'l', ' ', 'v', 'y'})\n"
     ]
    }
   ],
   "source": [
    "myfset = frozenset(\"I love Python!\")\n",
    "print(myfset)"
   ]
  },
  {
   "cell_type": "markdown",
   "metadata": {},
   "source": [
    "#### Operations"
   ]
  },
  {
   "cell_type": "code",
   "execution_count": 4,
   "metadata": {},
   "outputs": [
    {
     "name": "stdout",
     "output_type": "stream",
     "text": [
      "{1, 2, 3, 4, 5, 7}\n"
     ]
    }
   ],
   "source": [
    "myset = {1,2,3,1,2,3,4,5,1}\n",
    "myset.add(7)\n",
    "print(myset)"
   ]
  },
  {
   "cell_type": "code",
   "execution_count": 5,
   "metadata": {},
   "outputs": [
    {
     "name": "stdout",
     "output_type": "stream",
     "text": [
      "{1, 2, 3, 4, 5, 7, 10, 13, 17}\n"
     ]
    }
   ],
   "source": [
    "myset.update([10,13,17])\n",
    "print(myset)"
   ]
  },
  {
   "cell_type": "code",
   "execution_count": 6,
   "metadata": {},
   "outputs": [
    {
     "name": "stdout",
     "output_type": "stream",
     "text": [
      "{2, 3, 4, 5, 7, 10, 13, 17}\n"
     ]
    }
   ],
   "source": [
    "myset.remove(1)\n",
    "print(myset)"
   ]
  },
  {
   "cell_type": "code",
   "execution_count": 7,
   "metadata": {},
   "outputs": [
    {
     "name": "stdout",
     "output_type": "stream",
     "text": [
      "{2, 4, 5, 7, 10, 13, 17}\n"
     ]
    }
   ],
   "source": [
    "myset.remove(3)\n",
    "print(myset)"
   ]
  },
  {
   "cell_type": "code",
   "execution_count": 9,
   "metadata": {},
   "outputs": [
    {
     "name": "stdout",
     "output_type": "stream",
     "text": [
      "{5, 7, 10, 13, 17}\n",
      "4\n"
     ]
    }
   ],
   "source": [
    "v = myset.pop()\n",
    "print(myset)\n",
    "print(v)"
   ]
  },
  {
   "cell_type": "code",
   "execution_count": 10,
   "metadata": {},
   "outputs": [
    {
     "name": "stdout",
     "output_type": "stream",
     "text": [
      "set()\n"
     ]
    }
   ],
   "source": [
    "myset.clear()\n",
    "print(myset)"
   ]
  },
  {
   "cell_type": "code",
   "execution_count": 11,
   "metadata": {
    "collapsed": true
   },
   "outputs": [],
   "source": [
    "s1 = {1,2,3,4,5}\n",
    "s2 = {3,4,5,6,7}"
   ]
  },
  {
   "cell_type": "code",
   "execution_count": 12,
   "metadata": {},
   "outputs": [
    {
     "data": {
      "text/plain": [
       "{1, 2}"
      ]
     },
     "execution_count": 12,
     "metadata": {},
     "output_type": "execute_result"
    }
   ],
   "source": [
    "s1.difference(s2) # s1.difference_update(set2)\n",
    "s1-s2 #s1-=s2"
   ]
  },
  {
   "cell_type": "code",
   "execution_count": 13,
   "metadata": {},
   "outputs": [
    {
     "data": {
      "text/plain": [
       "{1, 2, 6, 7}"
      ]
     },
     "execution_count": 13,
     "metadata": {},
     "output_type": "execute_result"
    }
   ],
   "source": [
    "s1.symmetric_difference(s2) #s1.difference_update(set2)\n",
    "s1^s2  #s1=^s2"
   ]
  },
  {
   "cell_type": "code",
   "execution_count": 14,
   "metadata": {},
   "outputs": [
    {
     "data": {
      "text/plain": [
       "{3, 4, 5}"
      ]
     },
     "execution_count": 14,
     "metadata": {},
     "output_type": "execute_result"
    }
   ],
   "source": [
    "s1.intersection(s2)\n",
    "s1&s2"
   ]
  },
  {
   "cell_type": "code",
   "execution_count": 15,
   "metadata": {},
   "outputs": [
    {
     "data": {
      "text/plain": [
       "{1, 2, 3, 4, 5, 6, 7}"
      ]
     },
     "execution_count": 15,
     "metadata": {},
     "output_type": "execute_result"
    }
   ],
   "source": [
    "s1.union(s2)\n",
    "s1|s2"
   ]
  },
  {
   "cell_type": "code",
   "execution_count": 19,
   "metadata": {},
   "outputs": [
    {
     "data": {
      "text/plain": [
       "True"
      ]
     },
     "execution_count": 19,
     "metadata": {},
     "output_type": "execute_result"
    }
   ],
   "source": [
    "s3 = {1,2,3}\n",
    "s4 = {4,5,6}\n",
    "s3.isdisjoint(s4)"
   ]
  },
  {
   "cell_type": "code",
   "execution_count": 20,
   "metadata": {},
   "outputs": [
    {
     "data": {
      "text/plain": [
       "True"
      ]
     },
     "execution_count": 20,
     "metadata": {},
     "output_type": "execute_result"
    }
   ],
   "source": [
    "s5 = {1,2}\n",
    "s6 = {1,2,3,4}\n",
    "s5.issubset(s6)\n",
    "s5<=s6"
   ]
  },
  {
   "cell_type": "code",
   "execution_count": 18,
   "metadata": {},
   "outputs": [
    {
     "data": {
      "text/plain": [
       "False"
      ]
     },
     "execution_count": 18,
     "metadata": {},
     "output_type": "execute_result"
    }
   ],
   "source": [
    "s1.issuperset(s2)\n",
    "s1>=s2"
   ]
  },
  {
   "cell_type": "markdown",
   "metadata": {},
   "source": [
    "### Dictionaries\n",
    "* Also curly braces\n",
    "* Key-Value pairs\n",
    "* Keys: normally numbers or strings\n",
    "* Values: arbitrary\n",
    "* Creation from sequences (lists or tuples) possible"
   ]
  },
  {
   "cell_type": "code",
   "execution_count": 21,
   "metadata": {
    "collapsed": true
   },
   "outputs": [],
   "source": [
    "dict1 = {\"A\":\"cat\", \"B\":\"dog\", \"C\":\"fish\", \"D\":\"hamster\"}"
   ]
  },
  {
   "cell_type": "code",
   "execution_count": 22,
   "metadata": {
    "collapsed": true
   },
   "outputs": [],
   "source": [
    "seq = [(1,\"cat\"),(2,\"dog\"),(3,\"fish\"),(4,\"hamster\")]\n",
    "dict2 = dict(seq)"
   ]
  },
  {
   "cell_type": "code",
   "execution_count": 23,
   "metadata": {
    "collapsed": true
   },
   "outputs": [],
   "source": [
    "key_seq = [1,2,3,4]\n",
    "val_seq = (\"cat\", \"dog\", \"fish\", \"hamster\")\n",
    "dict3 = dict(zip(key_seq, val_seq))"
   ]
  },
  {
   "cell_type": "code",
   "execution_count": 24,
   "metadata": {},
   "outputs": [
    {
     "name": "stdout",
     "output_type": "stream",
     "text": [
      "{'D': 'hamster', 'C': 'fish', 'B': 'dog', 'A': 'cat'}\n",
      "{1: 'cat', 2: 'dog', 3: 'fish', 4: 'hamster'}\n",
      "{1: 'cat', 2: 'dog', 3: 'fish', 4: 'hamster'}\n"
     ]
    }
   ],
   "source": [
    "print(dict1)\n",
    "print(dict2)\n",
    "print(dict3)"
   ]
  },
  {
   "cell_type": "code",
   "execution_count": 25,
   "metadata": {},
   "outputs": [
    {
     "name": "stdout",
     "output_type": "stream",
     "text": [
      "dict_keys(['D', 'C', 'B', 'A'])\n"
     ]
    }
   ],
   "source": [
    "print(dict1.keys())"
   ]
  },
  {
   "cell_type": "code",
   "execution_count": 26,
   "metadata": {},
   "outputs": [
    {
     "name": "stdout",
     "output_type": "stream",
     "text": [
      "dict_values(['hamster', 'fish', 'dog', 'cat'])\n"
     ]
    }
   ],
   "source": [
    "print(dict1.values())"
   ]
  },
  {
   "cell_type": "code",
   "execution_count": 27,
   "metadata": {},
   "outputs": [
    {
     "name": "stdout",
     "output_type": "stream",
     "text": [
      "fish\n"
     ]
    }
   ],
   "source": [
    "print(dict1[\"C\"])"
   ]
  },
  {
   "cell_type": "code",
   "execution_count": 28,
   "metadata": {
    "collapsed": true
   },
   "outputs": [],
   "source": [
    "dict1.update(dict2)"
   ]
  },
  {
   "cell_type": "code",
   "execution_count": 29,
   "metadata": {},
   "outputs": [
    {
     "name": "stdout",
     "output_type": "stream",
     "text": [
      "{1: 'cat', 2: 'dog', 3: 'fish', 4: 'hamster', 'B': 'dog', 'C': 'fish', 'D': 'hamster', 'A': 'cat'}\n"
     ]
    }
   ],
   "source": [
    "print(dict1)"
   ]
  },
  {
   "cell_type": "markdown",
   "metadata": {},
   "source": [
    "## Slice operator revisited\n",
    "* **[start:end:step]**\n",
    "* **end** is exclusive\n",
    "* Every part is optional\n",
    "* Default for **start** is 0\n",
    "* Default for **end** is the length of the list\n",
    "* Default for **step** is 1\n",
    "* Parameters can be negative - counting backwards\n",
    "\n",
    "       [El1, El2, El3, El4, El5]\n",
    "         0    1    2    3    4\n",
    "        -5   -4   -3   -2   -1"
   ]
  },
  {
   "cell_type": "code",
   "execution_count": 30,
   "metadata": {},
   "outputs": [
    {
     "name": "stdout",
     "output_type": "stream",
     "text": [
      "[3, 5, 7, 9, 11, 13]\n",
      "[]\n",
      "[15, 13, 11, 9, 7, 5]\n"
     ]
    }
   ],
   "source": [
    "liste = [0,1,2,3,4,5,6,7,8,9,10,11,12,13,14,15,16,17,18,19,20]\n",
    "print(liste[3:15:2])\n",
    "print(liste[15:3:2])\n",
    "print(liste[15:3:-2])"
   ]
  },
  {
   "cell_type": "markdown",
   "metadata": {},
   "source": [
    "## Unpacking operator\n",
    "* Returns the elements of a sequence seperately\n",
    "* **\\*** for lists and tuples\n",
    "* **\\*\\*** for dictionaries\n",
    "* For example when using as function argument"
   ]
  },
  {
   "cell_type": "code",
   "execution_count": 34,
   "metadata": {},
   "outputs": [
    {
     "name": "stdout",
     "output_type": "stream",
     "text": [
      "9\n"
     ]
    }
   ],
   "source": [
    "def func(a, b, c):\n",
    "    return (a+b)*c\n",
    "\n",
    "list = [1, 2, 3]      # or list = ['apple', 'strawberry', 3]\n",
    "#func(list[0], list[1], list[2])\n",
    "print(func(*list))"
   ]
  },
  {
   "cell_type": "code",
   "execution_count": 31,
   "metadata": {},
   "outputs": [
    {
     "name": "stdout",
     "output_type": "stream",
     "text": [
      "15\n"
     ]
    }
   ],
   "source": [
    "def func2(*l):\n",
    "    sum = 0\n",
    "    for item in l:\n",
    "        sum += item\n",
    "    return sum\n",
    "\n",
    "print(func2(1,2,3,4,5))"
   ]
  },
  {
   "cell_type": "code",
   "execution_count": 35,
   "metadata": {},
   "outputs": [
    {
     "name": "stdout",
     "output_type": "stream",
     "text": [
      "Coordinates: 37.24N, -115.81W\n"
     ]
    }
   ],
   "source": [
    "coord = {'latitude': '37.24N', 'longitude': '-115.81W'}\n",
    "print('Coordinates: {latitude}, {longitude}'.format(**coord))"
   ]
  },
  {
   "cell_type": "markdown",
   "metadata": {},
   "source": [
    "## Lists of lists"
   ]
  },
  {
   "cell_type": "code",
   "execution_count": 36,
   "metadata": {},
   "outputs": [
    {
     "name": "stdout",
     "output_type": "stream",
     "text": [
      "[[0, 0, 0, 0], [0, 0, 0, 0], [0, 0, 0, 0], [0, 0, 0, 0], [0, 0, 0, 0]]\n"
     ]
    }
   ],
   "source": [
    "listOfLists = [[0] * 4] * 5\n",
    "print(listOfLists)"
   ]
  },
  {
   "cell_type": "code",
   "execution_count": 37,
   "metadata": {},
   "outputs": [
    {
     "name": "stdout",
     "output_type": "stream",
     "text": [
      "[[0, 42, 0, 0], [0, 42, 0, 0], [0, 42, 0, 0], [0, 42, 0, 0], [0, 42, 0, 0]]\n"
     ]
    }
   ],
   "source": [
    "listOfLists[0][1] = 42\n",
    "print(listOfLists)"
   ]
  },
  {
   "cell_type": "code",
   "execution_count": 38,
   "metadata": {},
   "outputs": [
    {
     "name": "stdout",
     "output_type": "stream",
     "text": [
      "[[0, 42, 0, 0], [0, 42, 0, 0], [0, 42, 0, 0], [0, 42, 0, 0], [0, 42, 0, 0]]\n"
     ]
    }
   ],
   "source": [
    "innerList = [0] * 4\n",
    "listOfLists = [innerList] * 5\n",
    "innerList[1] = 42\n",
    "print(listOfLists)"
   ]
  },
  {
   "cell_type": "code",
   "execution_count": 39,
   "metadata": {},
   "outputs": [
    {
     "name": "stdout",
     "output_type": "stream",
     "text": [
      "[[0, 42, 0, 0], [0, 0, 0, 0], [0, 0, 0, 0], [0, 0, 0, 0], [0, 0, 0, 0]]\n"
     ]
    }
   ],
   "source": [
    "listOfLists = [[0] * 4 for i in range(5)]\n",
    "listOfLists[0][1] = 42\n",
    "print(listOfLists)"
   ]
  },
  {
   "cell_type": "markdown",
   "metadata": {},
   "source": [
    "### Similar when copying lists"
   ]
  },
  {
   "cell_type": "code",
   "execution_count": 40,
   "metadata": {},
   "outputs": [
    {
     "name": "stdout",
     "output_type": "stream",
     "text": [
      "['pink', 'orange']\n",
      "['pink', 'orange']\n"
     ]
    }
   ],
   "source": [
    "colors = ['pink', 'orange']      \n",
    "copycolors = colors \n",
    "print(colors)\n",
    "print(copycolors)     "
   ]
  },
  {
   "cell_type": "code",
   "execution_count": 41,
   "metadata": {},
   "outputs": [
    {
     "data": {
      "image/png": "[encoded data removed]",
      "text/plain": [
       "<IPython.core.display.Image object>"
      ]
     },
     "execution_count": 41,
     "metadata": {
      "image/png": {
       "width": 500
      }
     },
     "output_type": "execute_result"
    }
   ],
   "source": [
    "from IPython.display import Image\n",
    "Image(\"pics/copy1.png\", width=500)"
   ]
  },
  {
   "cell_type": "code",
   "execution_count": 42,
   "metadata": {},
   "outputs": [
    {
     "name": "stdout",
     "output_type": "stream",
     "text": [
      "['pink', 'orange']\n",
      "['pink', 'red']\n"
     ]
    }
   ],
   "source": [
    "copycolors = ['pink', 'red']       \n",
    "print(colors)\n",
    "print(copycolors)         "
   ]
  },
  {
   "cell_type": "code",
   "execution_count": 43,
   "metadata": {},
   "outputs": [
    {
     "data": {
      "image/png": "[encoded data removed]",
      "text/plain": [
       "<IPython.core.display.Image object>"
      ]
     },
     "execution_count": 43,
     "metadata": {
      "image/png": {
       "width": 500
      }
     },
     "output_type": "execute_result"
    }
   ],
   "source": [
    "Image(\"pics/copy2.png\", width=500)"
   ]
  },
  {
   "cell_type": "code",
   "execution_count": 44,
   "metadata": {},
   "outputs": [
    {
     "name": "stdout",
     "output_type": "stream",
     "text": [
      "['pink', 'red']\n",
      "['pink', 'red']\n"
     ]
    }
   ],
   "source": [
    "copycolors = colors\n",
    "copycolors[1] = 'red'\n",
    "print(colors)\n",
    "print(copycolors) "
   ]
  },
  {
   "cell_type": "code",
   "execution_count": 45,
   "metadata": {},
   "outputs": [
    {
     "data": {
      "image/png": "[encoded data removed]",
      "text/plain": [
       "<IPython.core.display.Image object>"
      ]
     },
     "execution_count": 45,
     "metadata": {
      "image/png": {
       "width": 500
      }
     },
     "output_type": "execute_result"
    }
   ],
   "source": [
    "Image(\"pics/copy3.png\", width=500)"
   ]
  },
  {
   "cell_type": "code",
   "execution_count": 46,
   "metadata": {},
   "outputs": [
    {
     "name": "stdout",
     "output_type": "stream",
     "text": [
      "['pink', 'red']\n",
      "['pink', 'red']\n"
     ]
    }
   ],
   "source": [
    "copycolors = colors[:]\n",
    "copycolors[1] = 'red'\n",
    "print(colors)\n",
    "print(copycolors) "
   ]
  },
  {
   "cell_type": "markdown",
   "metadata": {},
   "source": [
    "#### Same problem again when copying list with lists"
   ]
  },
  {
   "cell_type": "code",
   "execution_count": 47,
   "metadata": {},
   "outputs": [
    {
     "name": "stdout",
     "output_type": "stream",
     "text": [
      "['pink', 'orange', ['green', 'blue']]\n",
      "['pink', 'orange', ['green', 'blue']]\n"
     ]
    }
   ],
   "source": [
    "colors = ['pink', 'orange', ['green', 'blue']] \n",
    "copycolors = colors[:]  \n",
    "print(colors)\n",
    "print(copycolors)   "
   ]
  },
  {
   "cell_type": "code",
   "execution_count": 48,
   "metadata": {},
   "outputs": [
    {
     "name": "stdout",
     "output_type": "stream",
     "text": [
      "['pink', 'orange', ['green', 'blue']]\n",
      "['pink', 'red', ['green', 'blue']]\n"
     ]
    }
   ],
   "source": [
    "copycolors[1] = 'red'\n",
    "print(colors)\n",
    "print(copycolors)  "
   ]
  },
  {
   "cell_type": "code",
   "execution_count": 49,
   "metadata": {},
   "outputs": [
    {
     "name": "stdout",
     "output_type": "stream",
     "text": [
      "['pink', 'orange', ['green', 'violet']]\n",
      "['pink', 'red', ['green', 'violet']]\n"
     ]
    }
   ],
   "source": [
    "copycolors[2][1] = 'violet'\n",
    "print(colors)\n",
    "print(copycolors)  "
   ]
  },
  {
   "cell_type": "markdown",
   "metadata": {},
   "source": [
    "Same problem again when changing sublists!\n",
    "\n",
    "Solution: **deepcopy** from module **copy**"
   ]
  },
  {
   "cell_type": "code",
   "execution_count": 50,
   "metadata": {},
   "outputs": [
    {
     "name": "stdout",
     "output_type": "stream",
     "text": [
      "['pink', 'orange', ['green', 'blue']]\n",
      "['pink', 'orange', ['green', 'blue']]\n"
     ]
    }
   ],
   "source": [
    "from copy import deepcopy\n",
    "\n",
    "colors = ['pink', 'orange', ['green', 'blue']] \n",
    "copycolors = deepcopy(colors)   \n",
    "print(colors)\n",
    "print(copycolors)  "
   ]
  },
  {
   "cell_type": "code",
   "execution_count": 51,
   "metadata": {},
   "outputs": [
    {
     "name": "stdout",
     "output_type": "stream",
     "text": [
      "['pink', 'orange', ['green', 'blue']]\n",
      "['pink', 'orange', ['green', 'violet']]\n"
     ]
    }
   ],
   "source": [
    "copycolors[2][1] = 'violet'\n",
    "print(colors)\n",
    "print(copycolors)  "
   ]
  },
  {
   "cell_type": "markdown",
   "metadata": {},
   "source": [
    "## Generators\n",
    "* **range(0,1000000000)** would need lots of memory\n",
    "* But **range()** does not return a list but an iterator\n",
    "* Next element generated when needed\n",
    "* Generator functions have no **return** but one or more **yield**"
   ]
  },
  {
   "cell_type": "code",
   "execution_count": 52,
   "metadata": {},
   "outputs": [
    {
     "name": "stdout",
     "output_type": "stream",
     "text": [
      "<generator object pizza_generator at 0x7fc44403a830>\n"
     ]
    }
   ],
   "source": [
    "def pizza_generator():\n",
    "    yield(\"Yeast\")\n",
    "    yield(\"Flour\")\n",
    "    yield(\"Water\")\n",
    "    yield(\"Salt\")\n",
    "    yield(\"Tomatoes\")\n",
    "    yield(\"Spices\")\n",
    "    yield(\"Mozzarella\")\n",
    "\n",
    "print(pizza_generator())"
   ]
  },
  {
   "cell_type": "code",
   "execution_count": 53,
   "metadata": {},
   "outputs": [
    {
     "name": "stdout",
     "output_type": "stream",
     "text": [
      "Yeast\n",
      "Flour\n",
      "Water\n",
      "Salt\n",
      "Tomatoes\n",
      "Spices\n",
      "Mozzarella\n"
     ]
    }
   ],
   "source": [
    "for item in pizza_generator():\n",
    "    print(item)"
   ]
  },
  {
   "cell_type": "code",
   "execution_count": 54,
   "metadata": {},
   "outputs": [
    {
     "name": "stdout",
     "output_type": "stream",
     "text": [
      "Yeast\n",
      "Flour\n"
     ]
    }
   ],
   "source": [
    "pizza = pizza_generator()\n",
    "print(next(pizza))\n",
    "print(next(pizza))"
   ]
  },
  {
   "cell_type": "markdown",
   "metadata": {},
   "source": [
    "## Comprehensions\n",
    "For lists using **[]**, generators using **()** and sets using **{}**"
   ]
  },
  {
   "cell_type": "code",
   "execution_count": 55,
   "metadata": {},
   "outputs": [
    {
     "name": "stdout",
     "output_type": "stream",
     "text": [
      "[('red', 'house'), ('red', 'car'), ('red', 'tree'), ('green', 'house'), ('green', 'car'), ('green', 'tree'), ('yellow', 'house'), ('yellow', 'car'), ('yellow', 'tree'), ('blue', 'house'), ('blue', 'car'), ('blue', 'tree')]\n"
     ]
    }
   ],
   "source": [
    "colors = [\"red\", \"green\", \"yellow\", \"blue\"]\n",
    "things = [\"house\", \"car\", \"tree\"]\n",
    "colored_things = [(x,y) for x in colors for y in things]\n",
    "print(colored_things)"
   ]
  },
  {
   "cell_type": "code",
   "execution_count": 56,
   "metadata": {},
   "outputs": [
    {
     "data": {
      "text/plain": [
       "{0, 1, 2, 3, 4}"
      ]
     },
     "execution_count": 56,
     "metadata": {},
     "output_type": "execute_result"
    }
   ],
   "source": [
    "#Set of all sums of numbers between 0 and 2: \n",
    "{x+y for x in range(0,3) for y in range(0,3)}"
   ]
  },
  {
   "cell_type": "markdown",
   "metadata": {},
   "source": [
    "## Function's arguments\n",
    "* Duck typing is heavily used! \n",
    "* Function parameters don't have a special type\n",
    "* When I see a bird that walks like a duck and swims like a duck and quacks like a duck, I call that bird a duck."
   ]
  },
  {
   "cell_type": "code",
   "execution_count": 59,
   "metadata": {},
   "outputs": [
    {
     "name": "stdout",
     "output_type": "stream",
     "text": [
      "Quack, quack!\n",
      "Flap, Flap!\n",
      "I'm Quackin'!\n",
      "I'm Flyin'!\n"
     ]
    }
   ],
   "source": [
    "class Duck:\n",
    "    def quack(self):\n",
    "        print(\"Quack, quack!\")\n",
    "    def fly(self):\n",
    "        print(\"Flap, Flap!\")\n",
    "\n",
    "class Person:\n",
    "    def quack(self):\n",
    "        print(\"I'm Quackin'!\")\n",
    "    def fly(self):\n",
    "        print(\"I'm Flyin'!\")\n",
    "\n",
    "def in_the_forest(mallard):\n",
    "    mallard.quack()\n",
    "    mallard.fly()\n",
    "\n",
    "duck = Duck()\n",
    "pers = Person()\n",
    "in_the_forest(duck)\n",
    "in_the_forest(pers)"
   ]
  },
  {
   "cell_type": "markdown",
   "metadata": {},
   "source": [
    "## Closures\n",
    "* Nested function (a function in a function)\t\n",
    "* Inner function is returned by the outer as function object\n",
    "* Returned function can refer to variable defined by outer function even after it's called"
   ]
  },
  {
   "cell_type": "code",
   "execution_count": 71,
   "metadata": {},
   "outputs": [
    {
     "name": "stdout",
     "output_type": "stream",
     "text": [
      "16\n"
     ]
    }
   ],
   "source": [
    "def gen_power_func(n):      #outer function\n",
    "    def nth_power(x):       #inner function / closure\n",
    "        return x**n         #n defined in outer function!!\n",
    "    return nth_power\n",
    "\n",
    "to_4 = gen_power_func(4)\n",
    "print(to_4(2))              #it still knows n = 4!"
   ]
  },
  {
   "cell_type": "markdown",
   "metadata": {},
   "source": [
    "## Decorators\n",
    "* Objects that modify a function, method or class defintion\n",
    "* Basically again a function, that gets a function as argument\n",
    "* **@property, @x.setter,  @staticmethod**"
   ]
  },
  {
   "cell_type": "code",
   "execution_count": 72,
   "metadata": {},
   "outputs": [
    {
     "name": "stdout",
     "output_type": "stream",
     "text": [
      "doing decoration\n",
      "inside function\n"
     ]
    }
   ],
   "source": [
    "def simple_decorator(function):\n",
    "    print(\"doing decoration\")\n",
    "    return function\n",
    "\n",
    "@simple_decorator\n",
    "def function():\n",
    "    print(\"inside function\")\n",
    "\n",
    "function()"
   ]
  },
  {
   "cell_type": "code",
   "execution_count": 73,
   "metadata": {
    "collapsed": true
   },
   "outputs": [],
   "source": [
    "import time\n",
    "def timing_function(some_function):\n",
    "    def wrapper():\n",
    "        t1 = time.time()\n",
    "        some_function()\n",
    "        t2 = time.time()\n",
    "        return \"Time it took to run the function: \" + str((t2 - t1)) + \"\\n\"\n",
    "    return wrapper"
   ]
  },
  {
   "cell_type": "code",
   "execution_count": 74,
   "metadata": {
    "collapsed": true
   },
   "outputs": [],
   "source": [
    "@timing_function\n",
    "def my_function():\n",
    "    num_list = []\n",
    "    for num in (range(0, 10000)):\n",
    "        num_list.append(num)\n",
    "    print(\"\\nSum of all the numbers: \" + str((sum(num_list))))"
   ]
  },
  {
   "cell_type": "code",
   "execution_count": 75,
   "metadata": {},
   "outputs": [
    {
     "name": "stdout",
     "output_type": "stream",
     "text": [
      "\n",
      "Sum of all the numbers: 49995000\n",
      "Time it took to run the function: 0.0010724067687988281\n",
      "\n"
     ]
    }
   ],
   "source": [
    "print(my_function())"
   ]
  },
  {
   "cell_type": "markdown",
   "metadata": {},
   "source": [
    "## Documentation\n",
    "* Comments: #   Use them - but use them wisely\n",
    "* Docstrings: Always in `'''docstring'''`\n",
    "    * Beginning of file: Description of content\n",
    "    * After class definition: Description of class\n",
    "    * After function definition: Description of function (what does it do, what parameter it takes...)\n",
    "* Docstring are printed when using `help` or `pydoc`"
   ]
  },
  {
   "cell_type": "code",
   "execution_count": 60,
   "metadata": {
    "collapsed": true
   },
   "outputs": [],
   "source": [
    "import webbrowser\n",
    "webbrowser.open()"
   ]
  },
  {
   "cell_type": "markdown",
   "metadata": {},
   "source": [
    "## Regular Expressions\n",
    "Challenge: \n",
    "* Find sequence *ACGTG* or *GCGTG*  --> 2 possibilities\n",
    "* Find a sequence starting with A or G, then has C or T, then 1 to 4 Cs, then T, then any base, then maybe a G and ending any base but A --> $ 2 \\cdot 2 \\cdot 4 \\cdot 1 \\cdot 4 \\cdot 2 \\cdot 3 = 384$ possibilities\n",
    "* Find any sequence starting with A and ending with T --> infinite possibilities\n",
    "\n",
    "Solution: Regular Expressions:\n",
    "* `.` any character\n",
    "* `[ACG]` any (one!) of A, C, G\n",
    "* `[B-O]` any (one!) of the characters from B to O (case sensitive)\n",
    "* `[^A]` any (one!) but A\n",
    "* `{n,m}` n to m times repeated\n",
    "    * `?` is `{0,1}` optional\n",
    "    * `*` is `{0,}` 0 or more\n",
    "    * `+` is `{1,}` at least 1\n",
    "* `^A` A at the beginning of the \"sentence\"\n",
    "* `A$` A at the end of the \"sentence\"\n",
    "* `(...)` subexpressions"
   ]
  },
  {
   "cell_type": "markdown",
   "metadata": {},
   "source": [
    "Examples:\n",
    "* Any sequence starting with A and ending with T: `A.*T`\n",
    "* A sequence starting with A or G, then has C or T, then 1 to 4 Cs, then T, then any base, then maybe a G and ending any base but A:  `[AG][CT]C{1,4}T.G?[^A]`\n",
    "* A G at the beginning of the sequence and the T at the end of a sequence: `^G.*T$`"
   ]
  },
  {
   "cell_type": "markdown",
   "metadata": {},
   "source": [
    "### RegExp in Python\n",
    "* A regular expression is used like a string with a prepended r: `r\"Some.Reg*[Ex]?\"`\n",
    "* Module `re`\n",
    "* `matchobject = re.search(regex, string)`"
   ]
  },
  {
   "cell_type": "code",
   "execution_count": 61,
   "metadata": {
    "collapsed": true
   },
   "outputs": [],
   "source": [
    "import re\n",
    "s1 = \"Meier is a common name.\"\n",
    "s2 = \"But we have many ways to write Mayr.\""
   ]
  },
  {
   "cell_type": "code",
   "execution_count": 62,
   "metadata": {},
   "outputs": [
    {
     "name": "stdout",
     "output_type": "stream",
     "text": [
      "<_sre.SRE_Match object; span=(0, 5), match='Meier'>\n"
     ]
    }
   ],
   "source": [
    "o=re.search(r\"M[ae][iy]e?r\", s1) \n",
    "print(o)"
   ]
  },
  {
   "cell_type": "code",
   "execution_count": 63,
   "metadata": {},
   "outputs": [
    {
     "data": {
      "text/plain": [
       "'Meier'"
      ]
     },
     "execution_count": 63,
     "metadata": {},
     "output_type": "execute_result"
    }
   ],
   "source": [
    "o.group()"
   ]
  },
  {
   "cell_type": "code",
   "execution_count": 64,
   "metadata": {},
   "outputs": [
    {
     "data": {
      "text/plain": [
       "(0, 5)"
      ]
     },
     "execution_count": 64,
     "metadata": {},
     "output_type": "execute_result"
    }
   ],
   "source": [
    "o.span()"
   ]
  },
  {
   "cell_type": "code",
   "execution_count": 65,
   "metadata": {},
   "outputs": [
    {
     "name": "stdout",
     "output_type": "stream",
     "text": [
      "But we have many ways to write Mayr.\n",
      "Meier is a common name.\n"
     ]
    }
   ],
   "source": [
    "s = s2 + \"\\n\" + s1\n",
    "print(s)"
   ]
  },
  {
   "cell_type": "code",
   "execution_count": 66,
   "metadata": {},
   "outputs": [
    {
     "name": "stdout",
     "output_type": "stream",
     "text": [
      "None\n"
     ]
    }
   ],
   "source": [
    "o=re.search(r\"^M[ae][iy]e?r\", s)       #only beginning of whole string\n",
    "print(o)"
   ]
  },
  {
   "cell_type": "code",
   "execution_count": 67,
   "metadata": {},
   "outputs": [
    {
     "name": "stdout",
     "output_type": "stream",
     "text": [
      "<_sre.SRE_Match object; span=(37, 42), match='Meier'>\n"
     ]
    }
   ],
   "source": [
    "o=re.search(r\"^M[ae][iy]e?r\", s, re.M) #M for MULTILINE; beginning of every line\n",
    "print(o)"
   ]
  },
  {
   "cell_type": "code",
   "execution_count": 68,
   "metadata": {},
   "outputs": [
    {
     "name": "stdout",
     "output_type": "stream",
     "text": [
      "Meier is a common name. But we have many ways to write Mayr.\n"
     ]
    },
    {
     "data": {
      "text/plain": [
       "['Meier', 'Mayr']"
      ]
     },
     "execution_count": 68,
     "metadata": {},
     "output_type": "execute_result"
    }
   ],
   "source": [
    "s = s1 + \" \" + s2\n",
    "print(s)\n",
    "re.findall(r\"M[ae][iy]e?r\", s)"
   ]
  },
  {
   "cell_type": "code",
   "execution_count": 69,
   "metadata": {},
   "outputs": [
    {
     "data": {
      "text/plain": [
       "'Müller is a common name. But we have many ways to write Müller.'"
      ]
     },
     "execution_count": 69,
     "metadata": {},
     "output_type": "execute_result"
    }
   ],
   "source": [
    "re.sub(r\"M[ae][iy]e?r\", \"Müller\", s)"
   ]
  },
  {
   "cell_type": "code",
   "execution_count": 70,
   "metadata": {},
   "outputs": [
    {
     "data": {
      "text/plain": [
       "['A', 'B', 'C', 'D', 'E']"
      ]
     },
     "execution_count": 70,
     "metadata": {},
     "output_type": "execute_result"
    }
   ],
   "source": [
    "s = \"A,B-C.D E\"\n",
    "re.split(r\"[ ,.-]\", s)"
   ]
  },
  {
   "cell_type": "markdown",
   "metadata": {},
   "source": [
    "#### Character classes \n",
    "* `\\d = [0-9]` decimal digits `\\D` complement\n",
    "* `\\s = [ \\t\\n\\r\\f\\v]` all whitespace `\\S` complement\n",
    "* `\\w = [a-zA-Z0-9_]` alphanumeric `\\W` complement\n",
    "* `\\b` empty string in beginning or end of a word\n",
    "* `\\B` empty string not in beginning or end of a word"
   ]
  },
  {
   "cell_type": "code",
   "execution_count": null,
   "metadata": {
    "collapsed": true
   },
   "outputs": [],
   "source": []
  }
 ],
 "metadata": {
  "kernelspec": {
   "display_name": "Python 3",
   "language": "python",
   "name": "python3"
  },
  "language_info": {
   "codemirror_mode": {
    "name": "ipython",
    "version": 3
   },
   "file_extension": ".py",
   "mimetype": "text/x-python",
   "name": "python",
   "nbconvert_exporter": "python",
   "pygments_lexer": "ipython3",
   "version": "3.5.2"
  }
 },
 "nbformat": 4,
 "nbformat_minor": 1
}
