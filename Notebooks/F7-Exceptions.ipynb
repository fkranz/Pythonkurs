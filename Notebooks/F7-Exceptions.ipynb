{
 "cells": [
  {
   "cell_type": "markdown",
   "metadata": {},
   "source": [
    "# Exceptions\n",
    "\n",
    "#### One more example on moduls - commandline parsing\n",
    "\n",
    "./command -i input -o output\n",
    "\n",
    "``` python\n",
    "import sys, getopt\n",
    "\n",
    "arguments = sys.argv\n",
    "print(arguments)\n",
    "opts, args = getopt.getopt(arguments[1:], \"hi:o:\", [\"-infile=\", \"-outfile=\"])\n",
    "\n",
    "for opt, arg in opts:\n",
    "    if (opt == \"-h\"):\n",
    "        print (\"Help\")\n",
    "    else: \n",
    "        print(opt, arg)\n",
    " ```"
   ]
  },
  {
   "cell_type": "markdown",
   "metadata": {},
   "source": [
    "What happens if we call **./command.py -x 42**\n",
    "\n",
    "\n",
    "Crashes are not very nice! Better catch the error and print a meaningful error message.\n",
    "The exeption mechanism:\n",
    "* Exception = Object that represents an error\n",
    "* Has to be immediatly handled when raised\n",
    "* Put suspicious code inside a **try:** block\n",
    "* Handle problems in the **except:** block"
   ]
  },
  {
   "cell_type": "markdown",
   "metadata": {},
   "source": [
    "```python\n",
    "try:\n",
    "    suspicious code\n",
    "except Exception1:\n",
    "    handle exception1\n",
    "except (Exception2, Exception3 [,..., ExceptionM]):\n",
    "    handle exceptions2 to M\n",
    "except ExceptionN:\n",
    "    handle exception N\n",
    "except:\n",
    "    handle all exceptions\n",
    "else:\n",
    "    do what you intially intended\n",
    "finally:\n",
    "    code the has to be executed also when an error occurs, clean-up\n",
    "```"
   ]
  },
  {
   "cell_type": "markdown",
   "metadata": {},
   "source": [
    "* **except:** without a specific exception will catch all exception that occur (not good practice!)\n",
    "* It's possible to sepcify multiple excpetions\n",
    "* Exceptions can have an argument with more informations:\n",
    "\n",
    "    **except ExceptionType as errorInformation:**"
   ]
  },
  {
   "cell_type": "markdown",
   "metadata": {},
   "source": [
    "<div class=\"alert alert-success\">\n",
    "\n",
    "<b>EXERCISE</b>:\n",
    "\n",
    "Let's fix command.py\n",
    "\n",
    "</div>"
   ]
  },
  {
   "cell_type": "code",
   "execution_count": null,
   "metadata": {
    "collapsed": true
   },
   "outputs": [],
   "source": [
    "%load ../Code/command.py"
   ]
  },
  {
   "cell_type": "code",
   "execution_count": null,
   "metadata": {
    "collapsed": true
   },
   "outputs": [],
   "source": [
    "%load ../Code/command_fix.py"
   ]
  },
  {
   "cell_type": "markdown",
   "metadata": {},
   "source": [
    "## Raising exceptions\n",
    "\n",
    "* For error handling in own functions\n",
    "* To let another user of our function decided on its own how to handle an error"
   ]
  },
  {
   "cell_type": "code",
   "execution_count": null,
   "metadata": {
    "collapsed": true
   },
   "outputs": [],
   "source": [
    "def functionForPositiveNumber(number):\n",
    "    if (number < 0):\n",
    "        raise ValueError(\"Negative number: \" + str(number))\n",
    "    # any code coming next won't be executed if exception raised"
   ]
  },
  {
   "cell_type": "code",
   "execution_count": null,
   "metadata": {},
   "outputs": [],
   "source": [
    "try:\n",
    "    functionForPositiveNumber(-5)\n",
    "except ValueError as info:\n",
    "        print(info)"
   ]
  },
  {
   "cell_type": "markdown",
   "metadata": {},
   "source": [
    "There is a number of pre-defined exceptions like\n",
    "* NameError: variable name not found\n",
    "* ValueError: value not possible\n",
    "* IndexError: index out of range\n",
    "* NotImplementedError: for abstract methods, where the user is required to override them\n",
    "* ZeroDivisionError\n",
    "\n",
    "To define own exceptions the **class BaseException** has to be subclassed (see next chapter)"
   ]
  },
  {
   "cell_type": "markdown",
   "metadata": {},
   "source": [
    "### Sanity Checks\n",
    "* Assertions\n",
    "* For testing phase\n",
    "* Assertions are raised when some condition is not fulfilled\n",
    "* They can be handled like other exceptions\n",
    "* **assert condition [,arguments]**"
   ]
  },
  {
   "cell_type": "code",
   "execution_count": null,
   "metadata": {
    "collapsed": true
   },
   "outputs": [],
   "source": [
    "def functionForPositiveNumber(number):\n",
    "    assert (number >= 0), \"Number negative\""
   ]
  },
  {
   "cell_type": "code",
   "execution_count": null,
   "metadata": {},
   "outputs": [],
   "source": [
    "functionForPositiveNumber(-5)"
   ]
  }
 ],
 "metadata": {
  "kernelspec": {
   "display_name": "Python 3",
   "language": "python",
   "name": "python3"
  },
  "language_info": {
   "codemirror_mode": {
    "name": "ipython",
    "version": 3
   },
   "file_extension": ".py",
   "mimetype": "text/x-python",
   "name": "python",
   "nbconvert_exporter": "python",
   "pygments_lexer": "ipython3",
   "version": "3.5.2"
  }
 },
 "nbformat": 4,
 "nbformat_minor": 1
}
