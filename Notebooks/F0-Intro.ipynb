{
 "cells": [
  {
   "cell_type": "markdown",
   "metadata": {
    "slideshow": {
     "slide_type": "slide"
    }
   },
   "source": [
    "# Hands-On Python Course\n",
    "\n",
    "    12. September 2017 - 15. September 2017"
   ]
  },
  {
   "cell_type": "markdown",
   "metadata": {
    "slideshow": {
     "slide_type": "slide"
    }
   },
   "source": [
    "## Overview\n",
    "\n",
    "* Basics\n",
    "    * Syntax\n",
    "    * Numbers - Math - Variables\n",
    "* Types\n",
    "* Control Flow\n",
    "    * Branching\n",
    "    * Comparison"
   ]
  },
  {
   "cell_type": "markdown",
   "metadata": {},
   "source": [
    "* Control Flow - Loops\n",
    "* Functions\n",
    "    * Writing and Using\n",
    "    * Advanced\n",
    "    * Standard Library\n",
    "* Execution of external programs\n",
    "* Excepts and Error Handling"
   ]
  },
  {
   "cell_type": "markdown",
   "metadata": {
    "slideshow": {
     "slide_type": "subslide"
    }
   },
   "source": [
    "* Object Oriented Programming"
   ]
  },
  {
   "cell_type": "markdown",
   "metadata": {},
   "source": [
    "* Additional and Advanced\n",
    "* Regular Expressions\n",
    "* External Modules\n",
    "    * NumPy\n",
    "    * Matplotlib"
   ]
  },
  {
   "cell_type": "markdown",
   "metadata": {
    "slideshow": {
     "slide_type": "slide"
    }
   },
   "source": [
    "## Who am I?\n",
    "\n",
    "* *Franziska* Kranz\n",
    "* franziska.kranz@fau.de\n",
    "* PhD students in Computer Science\n",
    "* Room 01.129-128 (Cauerstr 11, close to Mensa)"
   ]
  },
  {
   "cell_type": "markdown",
   "metadata": {
    "slideshow": {
     "slide_type": "slide"
    }
   },
   "source": [
    "## Course Structure\n",
    "* Tueday - Friday\n",
    "* 9.00 - 14.00 with break 11.30 - 12.30\n",
    "* Lecture with small exercises in the morning\n",
    "* More extensive exercises in the afternoon\n",
    "* Final project for 5 ECTS\n",
    "    * Bigger exercises\n",
    "    * No teamwork\n",
    "    * Deadline 8. October 2017 (3 weeks) 20:00\n",
    "    * Short presentation in the week 9. - 13. October\n",
    "    * Questions? -> Email"
   ]
  },
  {
   "cell_type": "markdown",
   "metadata": {
    "slideshow": {
     "slide_type": "slide"
    }
   },
   "source": [
    "## Feedback\n",
    "![](pics/fasterslower.jpg)"
   ]
  },
  {
   "cell_type": "markdown",
   "metadata": {
    "slideshow": {
     "slide_type": "slide"
    }
   },
   "source": [
    "## Python is...\n",
    "* ... interpreted - no need to compile\n",
    "* ... interactive\n",
    "* ... object-oriented\n",
    "* ... easy-to-learn\n",
    "* ... easy-to-read\n",
    "* ... portable\n",
    "* has a big standard library\n",
    "* and so on"
   ]
  },
  {
   "cell_type": "markdown",
   "metadata": {
    "slideshow": {
     "slide_type": "subslide"
    }
   },
   "source": [
    "![](pics/flyingcircus.jpg)"
   ]
  },
  {
   "cell_type": "markdown",
   "metadata": {
    "slideshow": {
     "slide_type": "slide"
    }
   },
   "source": [
    "## Useful links\n",
    "* http://www.python.org\n",
    "* http://www.tutorialspoint.com/python\n",
    "* http://anh.cs.luc.edu/python/hands-on/3.1/handsonHtml/index.html\n",
    "* http://en.wikibooks.org/wiki/Python_Programming\n",
    "* http://en.wikibooks.org/wiki/Non-Programmer’s_Tutorial_for_Python_3"
   ]
  },
  {
   "cell_type": "markdown",
   "metadata": {
    "slideshow": {
     "slide_type": "slide"
    }
   },
   "source": [
    "## Installation\n",
    "\n",
    "* Available for Windows, Linux, Mac OS X...\n",
    "* http://www.python.org/download/\n",
    "* IDE with GUI: Idle, Spyder, ...\n",
    "* Jupyter Notebook"
   ]
  },
  {
   "cell_type": "markdown",
   "metadata": {
    "slideshow": {
     "slide_type": "slide"
    }
   },
   "source": [
    "## Scripting Mode\n",
    "* For exercises and final project\n",
    "* Write code in your favorite editor\n",
    "* Save as *anyname.py*\n",
    "* Execute with *python3 anyname.py*"
   ]
  },
  {
   "cell_type": "markdown",
   "metadata": {
    "slideshow": {
     "slide_type": "slide"
    }
   },
   "source": [
    "## Interactive Mode\n",
    "* Open Terminal -> python3\n",
    "* Calculator\n",
    "* ```python\n",
    "print(\"Test\")\n",
    "```\n",
    "* Here:"
   ]
  },
  {
   "cell_type": "code",
   "execution_count": 1,
   "metadata": {
    "slideshow": {
     "slide_type": "fragment"
    }
   },
   "outputs": [
    {
     "data": {
      "text/plain": [
       "27"
      ]
     },
     "execution_count": 1,
     "metadata": {},
     "output_type": "execute_result"
    }
   ],
   "source": [
    "20 + 7"
   ]
  },
  {
   "cell_type": "code",
   "execution_count": 2,
   "metadata": {
    "slideshow": {
     "slide_type": "fragment"
    }
   },
   "outputs": [
    {
     "name": "stdout",
     "output_type": "stream",
     "text": [
      "Test\n"
     ]
    }
   ],
   "source": [
    "print(\"Test\")"
   ]
  },
  {
   "cell_type": "markdown",
   "metadata": {
    "slideshow": {
     "slide_type": "slide"
    }
   },
   "source": [
    "## Syntax\n",
    "Indentation is crucial!"
   ]
  },
  {
   "cell_type": "code",
   "execution_count": 3,
   "metadata": {
    "slideshow": {
     "slide_type": "fragment"
    }
   },
   "outputs": [
    {
     "name": "stdout",
     "output_type": "stream",
     "text": [
      "Enter cat or dog: cat\n",
      "Miau\n",
      "*purr*\n",
      "*wag tail*\n"
     ]
    }
   ],
   "source": [
    "# %load \"../Code/pet.py\"\n",
    "#! /usr/bin/env python3\n",
    "\n",
    "pet = input(\"Enter cat or dog: \")\n",
    "if(pet == \"cat\"):\n",
    "    print(\"Miau\")\n",
    "    print(\"*purr*\")\n",
    "else:\n",
    "    print(\"Wow\")\n",
    "print(\"*wag tail*\")"
   ]
  },
  {
   "cell_type": "code",
   "execution_count": 4,
   "metadata": {},
   "outputs": [
    {
     "name": "stdout",
     "output_type": "stream",
     "text": [
      "Enter cat or dog: cat\n",
      "Miau\n",
      "*purr*\n"
     ]
    }
   ],
   "source": [
    "# %load \"../Code/pet_corr.py\"\n",
    "#! /usr/bin/env python3\n",
    "\n",
    "pet = input(\"Enter cat or dog: \")\n",
    "if(pet == \"cat\"):\n",
    "    print(\"Miau\")\n",
    "    print(\"*purr*\")\n",
    "else:\n",
    "    print(\"Wow\")\n",
    "    print(\"*wag tail*\")"
   ]
  },
  {
   "cell_type": "code",
   "execution_count": null,
   "metadata": {
    "collapsed": true
   },
   "outputs": [],
   "source": []
  }
 ],
 "metadata": {
  "kernelspec": {
   "display_name": "Python 3",
   "language": "python",
   "name": "python3"
  },
  "language_info": {
   "codemirror_mode": {
    "name": "ipython",
    "version": 3
   },
   "file_extension": ".py",
   "mimetype": "text/x-python",
   "name": "python",
   "nbconvert_exporter": "python",
   "pygments_lexer": "ipython3",
   "version": "3.5.2"
  }
 },
 "nbformat": 4,
 "nbformat_minor": 1
}
