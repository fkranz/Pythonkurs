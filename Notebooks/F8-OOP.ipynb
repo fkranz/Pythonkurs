{
 "cells": [
  {
   "cell_type": "code",
   "execution_count": null,
   "metadata": {},
   "outputs": [],
   "source": [
    "v = 5\n",
    "print(type(v))\n",
    "v = \"String\"\n",
    "print(type(v))"
   ]
  },
  {
   "cell_type": "markdown",
   "metadata": {},
   "source": [
    "# Object oriented programming\n",
    "\n",
    "* Object: Unique instance of a data structure\n",
    "* Class: Prototype for an object, defines attributes and methods\n",
    "* Instance: Individual object of a certain class\n",
    "* Class variables: Variables that are shared by all instances of a class\n",
    "* Instance variables: Variables that belong only to the current instance\n",
    "* Method: Function of a class, always has at least one argument **self**\n",
    "\n",
    "#### Example: Car\n",
    "* Class: Car (construction plan), has 4 wheels, 5 seats, color, ps, position\n",
    "* Instances:\n",
    "  * coolCar: color=hotpink, ps=200\n",
    "  * boringCar: color=grey, ps=80\n",
    "* Methods: drive, makeNoise"
   ]
  },
  {
   "cell_type": "code",
   "execution_count": null,
   "metadata": {
    "collapsed": true
   },
   "outputs": [],
   "source": [
    "## Class definition\n",
    "class Car:                          #class\n",
    "    numberWheels = 4                #class variables\n",
    "    numberSeats = 5\n",
    "    \n",
    "    #init Function\n",
    "    def __init__(self, c, p):  \n",
    "        self.color = c          #instance variables\n",
    "        self.ps = p\n",
    "        self.pos = 0\n",
    "        print(\"A {} car with {} PS created at position {}\".\\\n",
    "              format(self.color, self.ps, self.pos))\n",
    "\n",
    "    def __str__(self):\n",
    "        return \"The {} car is at position {}\".format(self.color, self.pos)\n",
    "\n",
    "    #methods\n",
    "    def drive(self, amount):        \n",
    "        self.pos += amount * self.ps\n",
    "        print(\"The {} car moved to position {}\".format(self.color, self.pos))\n",
    "\n",
    "    def makeNoise(self):            \n",
    "        print(\"Brummm\")"
   ]
  },
  {
   "cell_type": "code",
   "execution_count": null,
   "metadata": {},
   "outputs": [],
   "source": [
    "## Create instances\n",
    "coolCar = Car(\"pink\", 200)\n",
    "boringCar = Car(\"gray\", 80)"
   ]
  },
  {
   "cell_type": "code",
   "execution_count": null,
   "metadata": {},
   "outputs": [],
   "source": [
    "# Use instances\n",
    "coolCar.drive(10)\n",
    "boringCar.drive(4)\n",
    "\n",
    "coolCar.makeNoise()"
   ]
  },
  {
   "cell_type": "code",
   "execution_count": null,
   "metadata": {
    "collapsed": true
   },
   "outputs": [],
   "source": [
    "del boringCar"
   ]
  },
  {
   "cell_type": "markdown",
   "metadata": {},
   "source": [
    "<div class=\"alert alert-success\">\n",
    "\n",
    "<b>EXERCISE</b>: In the class definition, add:\n",
    "<ul>\n",
    "<li> one class variable (something that should be the same for all your cars)\n",
    "<li> one instance variable (that should be set in the init method)\n",
    "<li> one method\n",
    "</ul>\n",
    "</div>"
   ]
  },
  {
   "cell_type": "markdown",
   "metadata": {},
   "source": [
    "### Built-in attributes\n",
    "* **\\__name__** Returns name of class\n",
    "* **\\__init__(self, [args])** Executed when instance is created\n",
    "* **\\__del__(self)** Executed when instance is deleted\n",
    "* **\\__str__(self)** Executed when instance is printed, returns a string"
   ]
  },
  {
   "cell_type": "code",
   "execution_count": null,
   "metadata": {},
   "outputs": [],
   "source": [
    "print(coolCar)"
   ]
  },
  {
   "cell_type": "markdown",
   "metadata": {},
   "source": [
    "### Attribute operations\n",
    "* **setattr(obj,name,value), obj.name = value** Sets value or creates new attribute\n",
    "* **delattr(obj,name), del obj.name** Removes attribute\n",
    "* **getattr(obj,name), obj.name** Gets value of attribute\n",
    "* **hasattr(obj,name)** Checks if object has attribute"
   ]
  },
  {
   "cell_type": "code",
   "execution_count": null,
   "metadata": {},
   "outputs": [],
   "source": [
    "coolCar = Car(\"pink\", 200)\n",
    "boringCar = Car(\"gray\", 80)\n",
    "smallCar = Car(\"black\", 50)"
   ]
  },
  {
   "cell_type": "code",
   "execution_count": null,
   "metadata": {},
   "outputs": [],
   "source": [
    "#change coolCar's color to violet\n",
    "coolCar.color = \"violet\"\n",
    "print(coolCar)"
   ]
  },
  {
   "cell_type": "code",
   "execution_count": null,
   "metadata": {},
   "outputs": [],
   "source": [
    "#add stripes\n",
    "coolCar.stripes = True\n",
    "print(\"CoolCar has stripes:\", hasattr(coolCar, 'stripes'))\n",
    "print(\"BoringCar has stripes\", hasattr(boringCar, 'stripes'))"
   ]
  },
  {
   "cell_type": "markdown",
   "metadata": {},
   "source": [
    "#### Changing class variables"
   ]
  },
  {
   "cell_type": "code",
   "execution_count": null,
   "metadata": {},
   "outputs": [],
   "source": [
    "print(\"Number of seats in cool Car:\",coolCar.numberSeats)\n",
    "coolCar.numberSeats = 2\n",
    "print(\"Number of seats in cool Car:\",coolCar.numberSeats)\n",
    "print(\"Number of seats in boring Car:\",boringCar.numberSeats)"
   ]
  },
  {
   "cell_type": "code",
   "execution_count": null,
   "metadata": {},
   "outputs": [],
   "source": [
    "Car.numberSeats = 3\n",
    "print(\"Number of seats in cool Car:\",coolCar.numberSeats)\n",
    "print(\"Number of seats in boring Car:\",boringCar.numberSeats)\n",
    "print(\"Number of seats in small Car:\",smallCar.numberSeats)"
   ]
  },
  {
   "cell_type": "markdown",
   "metadata": {},
   "source": [
    "### Static methods and Class methods"
   ]
  },
  {
   "cell_type": "markdown",
   "metadata": {
    "collapsed": true
   },
   "source": [
    "```python\n",
    "@classmethod\n",
    "def from_text_file(cls, filename):\n",
    "        # extract all the parameters from the text file\n",
    "        return cls(*params) # this is the same as calling Car(*params)\n",
    "```"
   ]
  },
  {
   "cell_type": "markdown",
   "metadata": {},
   "source": [
    "* A class method does not neccessarly need an instance, but still has a calling object\n",
    "* Not guaranteed to have any instance attributes (if called from class instead of instance)\n",
    "* For tasks associated with a class which we can perform using constants and other class attributes, without needing to create any class instances\n",
    "* Useful to write a class method which creates an instance of the class after processing the input so that it is in the right format to be passed to the class init, without making the init method awfully complicated"
   ]
  },
  {
   "cell_type": "markdown",
   "metadata": {
    "collapsed": true
   },
   "source": [
    "```python\n",
    "@staticmethod\n",
    "def makeNoiseStatic():\n",
    "    print(\"Brummm Brummm\")\n",
    "```"
   ]
  },
  {
   "cell_type": "markdown",
   "metadata": {},
   "source": [
    "* A static method doesn’t have the calling object passed into it as the first parameter\n",
    "* Doesn’t have access to the rest of the class or instance at all\n",
    "* Can be called from an instance or a class object, but they are most commonly called from class objects, like class methods\n",
    "* Often used if a Class is only created to group related methods together (so we never intend to create an instance)"
   ]
  },
  {
   "cell_type": "code",
   "execution_count": null,
   "metadata": {
    "collapsed": true
   },
   "outputs": [],
   "source": [
    "class Car:\n",
    "    numberWheels = 4\n",
    "    numberSeats = 5\n",
    "    \n",
    "    def __init__(self, color, ps):\n",
    "        self.color = color\n",
    "        self.ps = ps\n",
    "        self.pos = 0\n",
    "        print(\"A {} car with {} PS created at position {}\".\\\n",
    "              format(self.color, self.ps, self.pos))\n",
    "\n",
    "    def __str__(self):\n",
    "        return \"The {} car is at position\".format(self.color,self.pos)\n",
    "\n",
    "\n",
    "    def drive(self, amount):\n",
    "        self.pos += amount * self.ps\n",
    "        print(\"The {} car moved to position {}\".format(self.color,self.pos))\n",
    "    \n",
    "    def makeNoise(self):\n",
    "        print(\"Brummm\")\n",
    "    \n",
    "    @staticmethod\n",
    "    def makeNoiseStatic():\n",
    "        print(\"Brummm Brummm\")\n",
    "        \n",
    "    @classmethod\n",
    "    def makeNoiseClass(cls):\n",
    "        print(\"Brummm Brummm Brummm\")"
   ]
  },
  {
   "cell_type": "code",
   "execution_count": null,
   "metadata": {},
   "outputs": [],
   "source": [
    "print(\"Accessing non-static noise method:\",end=' ')\n",
    "try: \n",
    "    Car.makeNoise()\n",
    "except:\n",
    "    print(\"Can't access method 'makeNoise()' without instance\")"
   ]
  },
  {
   "cell_type": "code",
   "execution_count": null,
   "metadata": {},
   "outputs": [],
   "source": [
    "print(\"Accessing static noise method:\",end=' ')\n",
    "Car.makeNoiseStatic()"
   ]
  },
  {
   "cell_type": "code",
   "execution_count": null,
   "metadata": {},
   "outputs": [],
   "source": [
    "print(\"Accessing class noise method:\",end=' ')\n",
    "Car.makeNoiseClass()"
   ]
  },
  {
   "cell_type": "code",
   "execution_count": null,
   "metadata": {},
   "outputs": [],
   "source": [
    "coolCar = Car(\"pink\", 200)\n",
    "\n",
    "coolCar.makeNoise()\n",
    "coolCar.makeNoiseStatic()\n",
    "coolCar.makeNoiseClass()"
   ]
  },
  {
   "cell_type": "markdown",
   "metadata": {},
   "source": [
    "## Data encapsulation\n",
    "\n",
    "* Data hiding for protection - no direct access to attributes\n",
    "  * Public: `attribute` Free access\n",
    "  * Protected: `_attribute` Only to be used in class and subclass definition (but is accessible)\n",
    "  * Private: `__attribute`  Only to be used in class definition (inaccessible)\n",
    "* Getter/Setter: `def getX(self): return self.__x` or `def setX(self, x): self.__x = x`\n",
    "* Data hiding is NOT the Pythonic way! Only purely intern variables are hidden\n",
    "* Problem: What if attribute has to fulfill certain properties (e.g. positive integer)?\n",
    "\n",
    "### Properties\n",
    "* Getter-Method with name of variable with `@property` before definition\n",
    "* Setter-Method has name of variable too, with `@variabelname.setter` before definition\n",
    "* Ensure properties for variable in setter\n",
    "* Variables can be used like before"
   ]
  },
  {
   "cell_type": "code",
   "execution_count": null,
   "metadata": {
    "collapsed": true
   },
   "outputs": [],
   "source": [
    "class Point1D:\n",
    "    \"\"\" \n",
    "    Point1D class \n",
    "    Only has an x-value, that must be positive\n",
    "    \"\"\" \n",
    "\n",
    "    def __init__(self, x):\n",
    "        self.x = x\n",
    "\n",
    "    #   Getter\n",
    "    @property\n",
    "    def x(self):\n",
    "        \"\"\" Gives x\"\"\"\n",
    "        return self.__x\n",
    "\n",
    "    # Setter\n",
    "    @x.setter\n",
    "    def x(self, x):\n",
    "        \"\"\"Sets x - makes sure it's a positive integer\"\"\"\n",
    "        if x < 0:\n",
    "            self.__x = 0\n",
    "        else:\n",
    "            self.__x = int(x)"
   ]
  },
  {
   "cell_type": "code",
   "execution_count": null,
   "metadata": {},
   "outputs": [],
   "source": [
    "p1 = Point1D(-1)\n",
    "p2 = Point1D(5.2)\n",
    "\n",
    "print(p1.x)\n",
    "print(p2.x)\n",
    "\n",
    "p1.x = 7\n",
    "print(p1.x)"
   ]
  },
  {
   "cell_type": "markdown",
   "metadata": {},
   "source": [
    "## Operator overloading\n",
    "* Define operators `+, -, *, /, ==, +=` etc for your class\n",
    "* `__(i)add__(self, other)` for `+`\n",
    "* `__XXX__(self[, other]): (i)div, (i)mod, (i)mul, neg, (i)pow, xor, gt, eq` etc\n",
    "* `__XXX__(self, values): getitem, setitem, getslice, setslice`\n",
    "* If your operator has to return a new instance of the class, e.g `+, -, *, /` you have to create an instance of the class in the method and return it"
   ]
  },
  {
   "cell_type": "code",
   "execution_count": null,
   "metadata": {
    "collapsed": true
   },
   "outputs": [],
   "source": [
    "class Point1D:\n",
    "    \"\"\" \n",
    "    Point1D class \n",
    "    Only has an x-value, that must be positive\n",
    "    \"\"\" \n",
    "\n",
    "    def __init__(self, x):\n",
    "        self.x = x\n",
    "    \n",
    "    def __str__(self):\n",
    "        return \"x is {}\".format(self.x)\n",
    "        \n",
    "    def __eq__(self, other):\n",
    "        if self.x == other.x:\n",
    "            return True\n",
    "        else:\n",
    "            return False\n",
    "    def __add__(self, other):\n",
    "        res = Point1D(0)\n",
    "        res.x = self.x + other.x\n",
    "        return res\n",
    "    def __iadd__(self, other):\n",
    "        self.x += other.x\n",
    "        return self"
   ]
  },
  {
   "cell_type": "code",
   "execution_count": null,
   "metadata": {},
   "outputs": [],
   "source": [
    "a = Point1D(3)\n",
    "b = Point1D(7)\n",
    "print(a == b)\n",
    "c = a+b\n",
    "print(c)\n",
    "a += c\n",
    "print(a)"
   ]
  },
  {
   "cell_type": "markdown",
   "metadata": {},
   "source": [
    "<div class=\"alert alert-success\">\n",
    "\n",
    "<b>EXERCISE</b>:\n",
    "\n",
    "Insert an operator for multiplying two `Point1D` ojects in the class definition above. Afterwards test it with the code below.\n",
    "\n",
    "</div>"
   ]
  },
  {
   "cell_type": "code",
   "execution_count": null,
   "metadata": {},
   "outputs": [],
   "source": [
    "point1 = Point1D(5)\n",
    "point2 = Point1D(7)\n",
    "point3 = point1*point2\n",
    "print(point3)\n",
    "point1 *= point3\n",
    "print(point1)"
   ]
  },
  {
   "cell_type": "markdown",
   "metadata": {},
   "source": [
    "## Inheritance\n",
    "\n",
    "* Classes can be subclassed\n",
    "* Child class inherits variables and methods from parents or overrides them\n",
    "* Child can change parent's variables\n",
    "* Multiple parents possible\n",
    "* Parentclass can be accessed via **super()**\n",
    "* **issubclass(child, parent)**\n",
    "* **isinstance(obj, Class)** is true if object is instance of class or a subclass of Class"
   ]
  },
  {
   "cell_type": "markdown",
   "metadata": {},
   "source": [
    "```python\n",
    "class SubClass (ParentClass1 [, ParentClass2, ...]):\n",
    "    def __init__(self, ppar1, ppar2, cpar1):  # in child class\n",
    "        super().__init__(ppar1, ppar2)        # inits like in parent\n",
    "        self.something = cpar1\n",
    "\n",
    "    def __init__(self, ppar1, ppar2, cpar1):   \n",
    "        PartentClassName.__init__(self, ppar1, ppar2)  \n",
    "        self.something = cpar1\n",
    "        ```"
   ]
  },
  {
   "cell_type": "code",
   "execution_count": null,
   "metadata": {
    "collapsed": true
   },
   "outputs": [],
   "source": [
    "class SportsCar (Car):\n",
    "    numberOfSeats = 2\n",
    "    def __init__(self, color, ps, buckets):\n",
    "        super().__init__(color, ps)\n",
    "        self.bucketSeats = buckets\n",
    "        \n",
    "    def checkSeats(self):\n",
    "        if self.bucketSeats == True:\n",
    "            print (\"My car has {} bucket seats!\".format(self.numberOfSeats))\n",
    "        else:\n",
    "            print (\"My car has just {} normal seats.\".format(self.numberOfSeats))"
   ]
  },
  {
   "cell_type": "code",
   "execution_count": null,
   "metadata": {},
   "outputs": [],
   "source": [
    "sc = SportsCar(\"red\", 350, True)"
   ]
  },
  {
   "cell_type": "code",
   "execution_count": null,
   "metadata": {},
   "outputs": [],
   "source": [
    "sc.checkSeats()"
   ]
  },
  {
   "cell_type": "code",
   "execution_count": null,
   "metadata": {
    "collapsed": true
   },
   "outputs": [],
   "source": []
  }
 ],
 "metadata": {
  "kernelspec": {
   "display_name": "Python 3",
   "language": "python",
   "name": "python3"
  },
  "language_info": {
   "codemirror_mode": {
    "name": "ipython",
    "version": 3
   },
   "file_extension": ".py",
   "mimetype": "text/x-python",
   "name": "python",
   "nbconvert_exporter": "python",
   "pygments_lexer": "ipython3",
   "version": "3.5.2"
  }
 },
 "nbformat": 4,
 "nbformat_minor": 1
}
